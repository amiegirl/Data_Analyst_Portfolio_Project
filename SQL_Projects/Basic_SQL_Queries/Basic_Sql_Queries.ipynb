{
 "cells": [
  {
   "attachments": {},
   "cell_type": "markdown",
   "metadata": {
    "id": "SpcbZdpX26US"
   },
   "source": [
    "# Basic SQL Queries: Flights Database\n",
    "\n",
    "## The Database can be found [here](https://drive.google.com/file/d/1uGq4BEst0QUzvX3mbTOYQeyYu87wEOCW/view?usp=drive_link)"
   ]
  },
  {
   "attachments": {},
   "cell_type": "markdown",
   "metadata": {
    "id": "6syGqZkJ3H1w"
   },
   "source": [
    "Below is an Entity Relationship Diagram (ERD) of the flights database:\n",
    "\n",
    "<img src=\"https://github.com/Explore-AI/Pictures/blob/master/flights_ER_diagram.png?raw=true\" width=40%/>\n",
    "\n",
    "As can be seen from the ERD, the flights database consists of four tables:\n",
    "- **flights**: all domestic flights in the USA in 2008\n",
    "- **carriers**: lookup table for all the carriers\n",
    "- **planes**: lookup table for all the planes \n",
    "- **airports**: lookup table for all the airports\n",
    "\n",
    "For this challenge, I will apply the use of Basic SQL queries to gain insight into the flights database. "
   ]
  },
  {
   "attachments": {},
   "cell_type": "markdown",
   "metadata": {
    "id": "mn_MipAy4Nd6"
   },
   "source": [
    "## Loading the database\n",
    "\n",
    "Before producing basic SQL queries, we prepare the SQL environment by loading in the magic command `%load_ext sql`"
   ]
  },
  {
   "cell_type": "code",
   "execution_count": null,
   "metadata": {
    "id": "G3P6kl84qORE"
   },
   "outputs": [],
   "source": [
    "%load_ext sql"
   ]
  },
  {
   "attachments": {},
   "cell_type": "markdown",
   "metadata": {},
   "source": [
    "Next we load in the database."
   ]
  },
  {
   "cell_type": "code",
   "execution_count": 5,
   "metadata": {
    "colab": {
     "base_uri": "https://localhost:8080/",
     "height": 35
    },
    "id": "RPb4uX3f5QpD",
    "outputId": "725fbfc9-c313-433d-87ec-75be1496c973"
   },
   "outputs": [],
   "source": [
    "%%sql \n",
    "\n",
    "sqlite:///flights.db"
   ]
  },
  {
   "cell_type": "code",
   "execution_count": null,
   "metadata": {
    "colab": {
     "base_uri": "https://localhost:8080/"
    },
    "id": "BvJjRJk120bD",
    "outputId": "b70d79ac-5ac6-4307-e867-118abf6a2b6a"
   },
   "outputs": [],
   "source": [
    "%%time %%sql"
   ]
  },
  {
   "attachments": {},
   "cell_type": "markdown",
   "metadata": {
    "id": "DEfPERWi7BwE"
   },
   "source": [
    "Exploring the database \n",
    "\n",
    "Let's go ahead and take a look at the composition of each table in the flights database"
   ]
  },
  {
   "cell_type": "code",
   "execution_count": 7,
   "metadata": {
    "colab": {
     "base_uri": "https://localhost:8080/",
     "height": 610
    },
    "id": "DogFYdP157J1",
    "outputId": "8a43a3ff-9e79-49ae-a5fd-723709b8e0c3"
   },
   "outputs": [
    {
     "name": "stdout",
     "output_type": "stream",
     "text": [
      " * sqlite:///flights.db\n",
      "Done.\n"
     ]
    },
    {
     "data": {
      "text/html": [
       "<table>\n",
       "    <tr>\n",
       "        <th>cid</th>\n",
       "        <th>name</th>\n",
       "        <th>type</th>\n",
       "        <th>notnull</th>\n",
       "        <th>dflt_value</th>\n",
       "        <th>pk</th>\n",
       "    </tr>\n",
       "    <tr>\n",
       "        <td>0</td>\n",
       "        <td>index</td>\n",
       "        <td>INTEGER</td>\n",
       "        <td>0</td>\n",
       "        <td>NULL</td>\n",
       "        <td>0</td>\n",
       "    </tr>\n",
       "    <tr>\n",
       "        <td>1</td>\n",
       "        <td>Date</td>\n",
       "        <td>longtext</td>\n",
       "        <td>0</td>\n",
       "        <td>None</td>\n",
       "        <td>0</td>\n",
       "    </tr>\n",
       "    <tr>\n",
       "        <td>2</td>\n",
       "        <td>DayOfWeek</td>\n",
       "        <td>INTEGER</td>\n",
       "        <td>0</td>\n",
       "        <td>NULL</td>\n",
       "        <td>0</td>\n",
       "    </tr>\n",
       "    <tr>\n",
       "        <td>3</td>\n",
       "        <td>DepTime</td>\n",
       "        <td>double</td>\n",
       "        <td>0</td>\n",
       "        <td>NULL</td>\n",
       "        <td>0</td>\n",
       "    </tr>\n",
       "    <tr>\n",
       "        <td>4</td>\n",
       "        <td>CRSDepTime</td>\n",
       "        <td>longtext</td>\n",
       "        <td>0</td>\n",
       "        <td>None</td>\n",
       "        <td>0</td>\n",
       "    </tr>\n",
       "    <tr>\n",
       "        <td>5</td>\n",
       "        <td>ArrTime</td>\n",
       "        <td>double</td>\n",
       "        <td>0</td>\n",
       "        <td>NULL</td>\n",
       "        <td>0</td>\n",
       "    </tr>\n",
       "    <tr>\n",
       "        <td>6</td>\n",
       "        <td>CRSArrTime</td>\n",
       "        <td>longtext</td>\n",
       "        <td>0</td>\n",
       "        <td>None</td>\n",
       "        <td>0</td>\n",
       "    </tr>\n",
       "    <tr>\n",
       "        <td>7</td>\n",
       "        <td>UniqueCarrier</td>\n",
       "        <td>longtext</td>\n",
       "        <td>0</td>\n",
       "        <td>None</td>\n",
       "        <td>0</td>\n",
       "    </tr>\n",
       "    <tr>\n",
       "        <td>8</td>\n",
       "        <td>FlightNum</td>\n",
       "        <td>longtext</td>\n",
       "        <td>0</td>\n",
       "        <td>None</td>\n",
       "        <td>0</td>\n",
       "    </tr>\n",
       "    <tr>\n",
       "        <td>9</td>\n",
       "        <td>TailNum</td>\n",
       "        <td>longtext</td>\n",
       "        <td>0</td>\n",
       "        <td>None</td>\n",
       "        <td>0</td>\n",
       "    </tr>\n",
       "    <tr>\n",
       "        <td>10</td>\n",
       "        <td>ActualElapsedTime</td>\n",
       "        <td>double</td>\n",
       "        <td>0</td>\n",
       "        <td>NULL</td>\n",
       "        <td>0</td>\n",
       "    </tr>\n",
       "    <tr>\n",
       "        <td>11</td>\n",
       "        <td>CRSElapsedTime</td>\n",
       "        <td>longtext</td>\n",
       "        <td>0</td>\n",
       "        <td>None</td>\n",
       "        <td>0</td>\n",
       "    </tr>\n",
       "    <tr>\n",
       "        <td>12</td>\n",
       "        <td>AirTime</td>\n",
       "        <td>longtext</td>\n",
       "        <td>0</td>\n",
       "        <td>None</td>\n",
       "        <td>0</td>\n",
       "    </tr>\n",
       "    <tr>\n",
       "        <td>13</td>\n",
       "        <td>ArrDelay</td>\n",
       "        <td>double</td>\n",
       "        <td>0</td>\n",
       "        <td>NULL</td>\n",
       "        <td>0</td>\n",
       "    </tr>\n",
       "    <tr>\n",
       "        <td>14</td>\n",
       "        <td>DepDelay</td>\n",
       "        <td>double</td>\n",
       "        <td>0</td>\n",
       "        <td>NULL</td>\n",
       "        <td>0</td>\n",
       "    </tr>\n",
       "    <tr>\n",
       "        <td>15</td>\n",
       "        <td>Origin</td>\n",
       "        <td>longtext</td>\n",
       "        <td>0</td>\n",
       "        <td>None</td>\n",
       "        <td>0</td>\n",
       "    </tr>\n",
       "    <tr>\n",
       "        <td>16</td>\n",
       "        <td>Dest</td>\n",
       "        <td>longtext</td>\n",
       "        <td>0</td>\n",
       "        <td>None</td>\n",
       "        <td>0</td>\n",
       "    </tr>\n",
       "    <tr>\n",
       "        <td>17</td>\n",
       "        <td>Distance</td>\n",
       "        <td>INTEGER</td>\n",
       "        <td>0</td>\n",
       "        <td>NULL</td>\n",
       "        <td>0</td>\n",
       "    </tr>\n",
       "    <tr>\n",
       "        <td>18</td>\n",
       "        <td>TaxiIn</td>\n",
       "        <td>longtext</td>\n",
       "        <td>0</td>\n",
       "        <td>None</td>\n",
       "        <td>0</td>\n",
       "    </tr>\n",
       "    <tr>\n",
       "        <td>19</td>\n",
       "        <td>TaxiOut</td>\n",
       "        <td>longtext</td>\n",
       "        <td>0</td>\n",
       "        <td>None</td>\n",
       "        <td>0</td>\n",
       "    </tr>\n",
       "    <tr>\n",
       "        <td>20</td>\n",
       "        <td>Cancelled</td>\n",
       "        <td>longtext</td>\n",
       "        <td>0</td>\n",
       "        <td>None</td>\n",
       "        <td>0</td>\n",
       "    </tr>\n",
       "    <tr>\n",
       "        <td>21</td>\n",
       "        <td>CancellationCode</td>\n",
       "        <td>longtext</td>\n",
       "        <td>0</td>\n",
       "        <td>None</td>\n",
       "        <td>0</td>\n",
       "    </tr>\n",
       "    <tr>\n",
       "        <td>22</td>\n",
       "        <td>Diverted</td>\n",
       "        <td>longtext</td>\n",
       "        <td>0</td>\n",
       "        <td>None</td>\n",
       "        <td>0</td>\n",
       "    </tr>\n",
       "    <tr>\n",
       "        <td>23</td>\n",
       "        <td>CarrierDelay</td>\n",
       "        <td>longtext</td>\n",
       "        <td>0</td>\n",
       "        <td>None</td>\n",
       "        <td>0</td>\n",
       "    </tr>\n",
       "    <tr>\n",
       "        <td>24</td>\n",
       "        <td>WeatherDelay</td>\n",
       "        <td>longtext</td>\n",
       "        <td>0</td>\n",
       "        <td>None</td>\n",
       "        <td>0</td>\n",
       "    </tr>\n",
       "    <tr>\n",
       "        <td>25</td>\n",
       "        <td>NASDelay</td>\n",
       "        <td>longtext</td>\n",
       "        <td>0</td>\n",
       "        <td>None</td>\n",
       "        <td>0</td>\n",
       "    </tr>\n",
       "    <tr>\n",
       "        <td>26</td>\n",
       "        <td>SecurityDelay</td>\n",
       "        <td>longtext</td>\n",
       "        <td>0</td>\n",
       "        <td>None</td>\n",
       "        <td>0</td>\n",
       "    </tr>\n",
       "    <tr>\n",
       "        <td>27</td>\n",
       "        <td>LateAircraftDelay</td>\n",
       "        <td>longtext</td>\n",
       "        <td>0</td>\n",
       "        <td>None</td>\n",
       "        <td>0</td>\n",
       "    </tr>\n",
       "</table>"
      ],
      "text/plain": [
       "[(0, 'index', 'INTEGER', 0, 'NULL', 0),\n",
       " (1, 'Date', 'longtext', 0, None, 0),\n",
       " (2, 'DayOfWeek', 'INTEGER', 0, 'NULL', 0),\n",
       " (3, 'DepTime', 'double', 0, 'NULL', 0),\n",
       " (4, 'CRSDepTime', 'longtext', 0, None, 0),\n",
       " (5, 'ArrTime', 'double', 0, 'NULL', 0),\n",
       " (6, 'CRSArrTime', 'longtext', 0, None, 0),\n",
       " (7, 'UniqueCarrier', 'longtext', 0, None, 0),\n",
       " (8, 'FlightNum', 'longtext', 0, None, 0),\n",
       " (9, 'TailNum', 'longtext', 0, None, 0),\n",
       " (10, 'ActualElapsedTime', 'double', 0, 'NULL', 0),\n",
       " (11, 'CRSElapsedTime', 'longtext', 0, None, 0),\n",
       " (12, 'AirTime', 'longtext', 0, None, 0),\n",
       " (13, 'ArrDelay', 'double', 0, 'NULL', 0),\n",
       " (14, 'DepDelay', 'double', 0, 'NULL', 0),\n",
       " (15, 'Origin', 'longtext', 0, None, 0),\n",
       " (16, 'Dest', 'longtext', 0, None, 0),\n",
       " (17, 'Distance', 'INTEGER', 0, 'NULL', 0),\n",
       " (18, 'TaxiIn', 'longtext', 0, None, 0),\n",
       " (19, 'TaxiOut', 'longtext', 0, None, 0),\n",
       " (20, 'Cancelled', 'longtext', 0, None, 0),\n",
       " (21, 'CancellationCode', 'longtext', 0, None, 0),\n",
       " (22, 'Diverted', 'longtext', 0, None, 0),\n",
       " (23, 'CarrierDelay', 'longtext', 0, None, 0),\n",
       " (24, 'WeatherDelay', 'longtext', 0, None, 0),\n",
       " (25, 'NASDelay', 'longtext', 0, None, 0),\n",
       " (26, 'SecurityDelay', 'longtext', 0, None, 0),\n",
       " (27, 'LateAircraftDelay', 'longtext', 0, None, 0)]"
      ]
     },
     "execution_count": 7,
     "metadata": {},
     "output_type": "execute_result"
    }
   ],
   "source": [
    "%%sql \n",
    "\n",
    "PRAGMA table_info(flights);"
   ]
  },
  {
   "cell_type": "code",
   "execution_count": 5,
   "metadata": {
    "id": "rFbza7pM6-_T"
   },
   "outputs": [
    {
     "name": "stdout",
     "output_type": "stream",
     "text": [
      " * sqlite:///flights.db\n",
      "Done.\n"
     ]
    },
    {
     "data": {
      "text/html": [
       "<table>\n",
       "    <tr>\n",
       "        <th>cid</th>\n",
       "        <th>name</th>\n",
       "        <th>type</th>\n",
       "        <th>notnull</th>\n",
       "        <th>dflt_value</th>\n",
       "        <th>pk</th>\n",
       "    </tr>\n",
       "    <tr>\n",
       "        <td>0</td>\n",
       "        <td>Code</td>\n",
       "        <td>varchar(10)</td>\n",
       "        <td>0</td>\n",
       "        <td>NULL</td>\n",
       "        <td>0</td>\n",
       "    </tr>\n",
       "    <tr>\n",
       "        <td>1</td>\n",
       "        <td>Description</td>\n",
       "        <td>varchar(100)</td>\n",
       "        <td>0</td>\n",
       "        <td>NULL</td>\n",
       "        <td>0</td>\n",
       "    </tr>\n",
       "</table>"
      ],
      "text/plain": [
       "[(0, 'Code', 'varchar(10)', 0, 'NULL', 0),\n",
       " (1, 'Description', 'varchar(100)', 0, 'NULL', 0)]"
      ]
     },
     "execution_count": 5,
     "metadata": {},
     "output_type": "execute_result"
    }
   ],
   "source": [
    "%%sql \n",
    "\n",
    "PRAGMA table_info(carriers);"
   ]
  },
  {
   "cell_type": "code",
   "execution_count": 6,
   "metadata": {
    "id": "5CR8DRoz7OUC"
   },
   "outputs": [
    {
     "name": "stdout",
     "output_type": "stream",
     "text": [
      " * sqlite:///flights.db\n",
      "Done.\n"
     ]
    },
    {
     "data": {
      "text/html": [
       "<table>\n",
       "    <tr>\n",
       "        <th>cid</th>\n",
       "        <th>name</th>\n",
       "        <th>type</th>\n",
       "        <th>notnull</th>\n",
       "        <th>dflt_value</th>\n",
       "        <th>pk</th>\n",
       "    </tr>\n",
       "    <tr>\n",
       "        <td>0</td>\n",
       "        <td>iata</td>\n",
       "        <td>varchar(10)</td>\n",
       "        <td>0</td>\n",
       "        <td>NULL</td>\n",
       "        <td>0</td>\n",
       "    </tr>\n",
       "    <tr>\n",
       "        <td>1</td>\n",
       "        <td>airport</td>\n",
       "        <td>varchar(100)</td>\n",
       "        <td>0</td>\n",
       "        <td>NULL</td>\n",
       "        <td>0</td>\n",
       "    </tr>\n",
       "    <tr>\n",
       "        <td>2</td>\n",
       "        <td>city</td>\n",
       "        <td>varchar(100)</td>\n",
       "        <td>0</td>\n",
       "        <td>NULL</td>\n",
       "        <td>0</td>\n",
       "    </tr>\n",
       "    <tr>\n",
       "        <td>3</td>\n",
       "        <td>state</td>\n",
       "        <td>varchar(50)</td>\n",
       "        <td>0</td>\n",
       "        <td>NULL</td>\n",
       "        <td>0</td>\n",
       "    </tr>\n",
       "    <tr>\n",
       "        <td>4</td>\n",
       "        <td>country</td>\n",
       "        <td>varchar(50)</td>\n",
       "        <td>0</td>\n",
       "        <td>NULL</td>\n",
       "        <td>0</td>\n",
       "    </tr>\n",
       "    <tr>\n",
       "        <td>5</td>\n",
       "        <td>lat</td>\n",
       "        <td>float(24,0)</td>\n",
       "        <td>0</td>\n",
       "        <td>NULL</td>\n",
       "        <td>0</td>\n",
       "    </tr>\n",
       "    <tr>\n",
       "        <td>6</td>\n",
       "        <td>long</td>\n",
       "        <td>float(24,0)</td>\n",
       "        <td>0</td>\n",
       "        <td>NULL</td>\n",
       "        <td>0</td>\n",
       "    </tr>\n",
       "</table>"
      ],
      "text/plain": [
       "[(0, 'iata', 'varchar(10)', 0, 'NULL', 0),\n",
       " (1, 'airport', 'varchar(100)', 0, 'NULL', 0),\n",
       " (2, 'city', 'varchar(100)', 0, 'NULL', 0),\n",
       " (3, 'state', 'varchar(50)', 0, 'NULL', 0),\n",
       " (4, 'country', 'varchar(50)', 0, 'NULL', 0),\n",
       " (5, 'lat', 'float(24,0)', 0, 'NULL', 0),\n",
       " (6, 'long', 'float(24,0)', 0, 'NULL', 0)]"
      ]
     },
     "execution_count": 6,
     "metadata": {},
     "output_type": "execute_result"
    }
   ],
   "source": [
    "%%sql \n",
    "\n",
    "PRAGMA table_info(airports);"
   ]
  },
  {
   "cell_type": "code",
   "execution_count": 7,
   "metadata": {
    "colab": {
     "base_uri": "https://localhost:8080/"
    },
    "id": "Yv-F_ubg7SsX",
    "outputId": "213c2662-69d4-42a4-b311-0b1eace7d132"
   },
   "outputs": [
    {
     "name": "stdout",
     "output_type": "stream",
     "text": [
      " * sqlite:///flights.db\n",
      "Done.\n"
     ]
    },
    {
     "data": {
      "text/html": [
       "<table>\n",
       "    <tr>\n",
       "        <th>cid</th>\n",
       "        <th>name</th>\n",
       "        <th>type</th>\n",
       "        <th>notnull</th>\n",
       "        <th>dflt_value</th>\n",
       "        <th>pk</th>\n",
       "    </tr>\n",
       "    <tr>\n",
       "        <td>0</td>\n",
       "        <td>tailnum</td>\n",
       "        <td>varchar(10)</td>\n",
       "        <td>0</td>\n",
       "        <td>NULL</td>\n",
       "        <td>0</td>\n",
       "    </tr>\n",
       "    <tr>\n",
       "        <td>1</td>\n",
       "        <td>type</td>\n",
       "        <td>varchar(100)</td>\n",
       "        <td>0</td>\n",
       "        <td>NULL</td>\n",
       "        <td>0</td>\n",
       "    </tr>\n",
       "    <tr>\n",
       "        <td>2</td>\n",
       "        <td>manufacturer</td>\n",
       "        <td>varchar(100)</td>\n",
       "        <td>0</td>\n",
       "        <td>NULL</td>\n",
       "        <td>0</td>\n",
       "    </tr>\n",
       "    <tr>\n",
       "        <td>3</td>\n",
       "        <td>issue_date</td>\n",
       "        <td>varchar(100)</td>\n",
       "        <td>0</td>\n",
       "        <td>NULL</td>\n",
       "        <td>0</td>\n",
       "    </tr>\n",
       "    <tr>\n",
       "        <td>4</td>\n",
       "        <td>model</td>\n",
       "        <td>varchar(50)</td>\n",
       "        <td>0</td>\n",
       "        <td>NULL</td>\n",
       "        <td>0</td>\n",
       "    </tr>\n",
       "    <tr>\n",
       "        <td>5</td>\n",
       "        <td>status</td>\n",
       "        <td>varchar(100)</td>\n",
       "        <td>0</td>\n",
       "        <td>NULL</td>\n",
       "        <td>0</td>\n",
       "    </tr>\n",
       "    <tr>\n",
       "        <td>6</td>\n",
       "        <td>aircraft_type</td>\n",
       "        <td>varchar(100)</td>\n",
       "        <td>0</td>\n",
       "        <td>NULL</td>\n",
       "        <td>0</td>\n",
       "    </tr>\n",
       "    <tr>\n",
       "        <td>7</td>\n",
       "        <td>engine_type</td>\n",
       "        <td>varchar(100)</td>\n",
       "        <td>0</td>\n",
       "        <td>NULL</td>\n",
       "        <td>0</td>\n",
       "    </tr>\n",
       "    <tr>\n",
       "        <td>8</td>\n",
       "        <td>year</td>\n",
       "        <td>longtext</td>\n",
       "        <td>0</td>\n",
       "        <td>None</td>\n",
       "        <td>0</td>\n",
       "    </tr>\n",
       "</table>"
      ],
      "text/plain": [
       "[(0, 'tailnum', 'varchar(10)', 0, 'NULL', 0),\n",
       " (1, 'type', 'varchar(100)', 0, 'NULL', 0),\n",
       " (2, 'manufacturer', 'varchar(100)', 0, 'NULL', 0),\n",
       " (3, 'issue_date', 'varchar(100)', 0, 'NULL', 0),\n",
       " (4, 'model', 'varchar(50)', 0, 'NULL', 0),\n",
       " (5, 'status', 'varchar(100)', 0, 'NULL', 0),\n",
       " (6, 'aircraft_type', 'varchar(100)', 0, 'NULL', 0),\n",
       " (7, 'engine_type', 'varchar(100)', 0, 'NULL', 0),\n",
       " (8, 'year', 'longtext', 0, None, 0)]"
      ]
     },
     "execution_count": 7,
     "metadata": {},
     "output_type": "execute_result"
    }
   ],
   "source": [
    "%%sql \n",
    "\n",
    "PRAGMA table_info(planes);"
   ]
  },
  {
   "attachments": {},
   "cell_type": "markdown",
   "metadata": {
    "id": "1jic_xzd7qxu"
   },
   "source": [
    "## Questions on Basic SQL Queries "
   ]
  },
  {
   "attachments": {},
   "cell_type": "markdown",
   "metadata": {
    "id": "rrx6v9y07x3Q"
   },
   "source": [
    "**Question 1**\n",
    "\n",
    "How many different carriers are there in total in the database?"
   ]
  },
  {
   "cell_type": "code",
   "execution_count": 8,
   "metadata": {
    "colab": {
     "base_uri": "https://localhost:8080/",
     "height": 628
    },
    "id": "yxBbvV6K7ZIt",
    "outputId": "42d852bf-3fcc-4476-dab5-210235736b7f"
   },
   "outputs": [
    {
     "name": "stdout",
     "output_type": "stream",
     "text": [
      " * sqlite:///flights.db\n",
      "Done.\n"
     ]
    },
    {
     "data": {
      "text/html": [
       "<table>\n",
       "    <tr>\n",
       "        <th>Code</th>\n",
       "        <th>Description</th>\n",
       "    </tr>\n",
       "    <tr>\n",
       "        <td>02Q</td>\n",
       "        <td>Titan Airways\r\n",
       "</td>\n",
       "    </tr>\n",
       "    <tr>\n",
       "        <td>04Q</td>\n",
       "        <td>Tradewind Aviation\r\n",
       "</td>\n",
       "    </tr>\n",
       "    <tr>\n",
       "        <td>05Q</td>\n",
       "        <td>Comlux Aviation, AG\r\n",
       "</td>\n",
       "    </tr>\n",
       "    <tr>\n",
       "        <td>06Q</td>\n",
       "        <td>Master Top Linhas Aereas Ltd.\r\n",
       "</td>\n",
       "    </tr>\n",
       "    <tr>\n",
       "        <td>07Q</td>\n",
       "        <td>Flair Airlines Ltd.\r\n",
       "</td>\n",
       "    </tr>\n",
       "    <tr>\n",
       "        <td>09Q</td>\n",
       "        <td>Swift Air, LLC\r\n",
       "</td>\n",
       "    </tr>\n",
       "    <tr>\n",
       "        <td>0BQ</td>\n",
       "        <td>DCA\r\n",
       "</td>\n",
       "    </tr>\n",
       "    <tr>\n",
       "        <td>0CQ</td>\n",
       "        <td>ACM AIR CHARTER GmbH\r\n",
       "</td>\n",
       "    </tr>\n",
       "    <tr>\n",
       "        <td>0FQ</td>\n",
       "        <td>Maine Aviation Aircraft Charter, LLC\r\n",
       "</td>\n",
       "    </tr>\n",
       "    <tr>\n",
       "        <td>0GQ</td>\n",
       "        <td>Inter Island Airways, d/b/a Inter Island Air\r\n",
       "</td>\n",
       "    </tr>\n",
       "    <tr>\n",
       "        <td>0HQ</td>\n",
       "        <td>Polar Airlines de Mexico d/b/a Nova Air\r\n",
       "</td>\n",
       "    </tr>\n",
       "    <tr>\n",
       "        <td>0J</td>\n",
       "        <td>JetClub AG\r\n",
       "</td>\n",
       "    </tr>\n",
       "    <tr>\n",
       "        <td>0JQ</td>\n",
       "        <td>Vision Airlines\r\n",
       "</td>\n",
       "    </tr>\n",
       "    <tr>\n",
       "        <td>0KQ</td>\n",
       "        <td>Mokulele Flight Services, Inc.\r\n",
       "</td>\n",
       "    </tr>\n",
       "    <tr>\n",
       "        <td>0LQ</td>\n",
       "        <td>Metropix UK, LLP.\r\n",
       "</td>\n",
       "    </tr>\n",
       "</table>"
      ],
      "text/plain": [
       "[('02Q', 'Titan Airways\\r'),\n",
       " ('04Q', 'Tradewind Aviation\\r'),\n",
       " ('05Q', 'Comlux Aviation, AG\\r'),\n",
       " ('06Q', 'Master Top Linhas Aereas Ltd.\\r'),\n",
       " ('07Q', 'Flair Airlines Ltd.\\r'),\n",
       " ('09Q', 'Swift Air, LLC\\r'),\n",
       " ('0BQ', 'DCA\\r'),\n",
       " ('0CQ', 'ACM AIR CHARTER GmbH\\r'),\n",
       " ('0FQ', 'Maine Aviation Aircraft Charter, LLC\\r'),\n",
       " ('0GQ', 'Inter Island Airways, d/b/a Inter Island Air\\r'),\n",
       " ('0HQ', 'Polar Airlines de Mexico d/b/a Nova Air\\r'),\n",
       " ('0J', 'JetClub AG\\r'),\n",
       " ('0JQ', 'Vision Airlines\\r'),\n",
       " ('0KQ', 'Mokulele Flight Services, Inc.\\r'),\n",
       " ('0LQ', 'Metropix UK, LLP.\\r')]"
      ]
     },
     "execution_count": 8,
     "metadata": {},
     "output_type": "execute_result"
    }
   ],
   "source": [
    "%%sql\n",
    "SELECT * FROM carriers\n",
    "LIMIT 15;"
   ]
  },
  {
   "cell_type": "code",
   "execution_count": 9,
   "metadata": {},
   "outputs": [
    {
     "name": "stdout",
     "output_type": "stream",
     "text": [
      " * sqlite:///flights.db\n",
      "Done.\n"
     ]
    },
    {
     "data": {
      "text/html": [
       "<table>\n",
       "    <tr>\n",
       "        <th>COUNT(Code AND Description)</th>\n",
       "    </tr>\n",
       "    <tr>\n",
       "        <td>1491</td>\n",
       "    </tr>\n",
       "</table>"
      ],
      "text/plain": [
       "[(1491,)]"
      ]
     },
     "execution_count": 9,
     "metadata": {},
     "output_type": "execute_result"
    }
   ],
   "source": [
    "%%sql\n",
    "SELECT COUNT(Code AND Description) FROM carriers;"
   ]
  },
  {
   "attachments": {},
   "cell_type": "markdown",
   "metadata": {
    "id": "jbQrUUTXtXkJ"
   },
   "source": [
    "### ANSWER: 1491"
   ]
  },
  {
   "attachments": {},
   "cell_type": "markdown",
   "metadata": {
    "id": "VTSePiaa7_Yu"
   },
   "source": [
    "**Question 2** \n",
    "\n",
    "How long was the longest delay before departure?"
   ]
  },
  {
   "cell_type": "code",
   "execution_count": 10,
   "metadata": {
    "id": "QeJQFrCV8ECZ"
   },
   "outputs": [
    {
     "name": "stdout",
     "output_type": "stream",
     "text": [
      " * sqlite:///flights.db\n",
      "Done.\n"
     ]
    },
    {
     "data": {
      "text/html": [
       "<table>\n",
       "    <tr>\n",
       "        <th>MAX(DepDelay)</th>\n",
       "    </tr>\n",
       "    <tr>\n",
       "        <td>1355.0</td>\n",
       "    </tr>\n",
       "</table>"
      ],
      "text/plain": [
       "[(1355.0,)]"
      ]
     },
     "execution_count": 10,
     "metadata": {},
     "output_type": "execute_result"
    }
   ],
   "source": [
    "%%sql\n",
    "SELECT MAX(DepDelay) FROM flights"
   ]
  },
  {
   "attachments": {},
   "cell_type": "markdown",
   "metadata": {
    "id": "H5aCJAP4udiu"
   },
   "source": [
    "### ANSWER: 1355 min"
   ]
  },
  {
   "attachments": {},
   "cell_type": "markdown",
   "metadata": {
    "id": "q-xmbYTI8jcM"
   },
   "source": [
    "**Question 3** \n",
    "\n",
    "How many flights departed on the 28th of January 2008?"
   ]
  },
  {
   "cell_type": "code",
   "execution_count": 11,
   "metadata": {
    "id": "Yh2gQ4Ir9Zex"
   },
   "outputs": [
    {
     "name": "stdout",
     "output_type": "stream",
     "text": [
      " * sqlite:///flights.db\n",
      "Done.\n"
     ]
    },
    {
     "data": {
      "text/html": [
       "<table>\n",
       "    <tr>\n",
       "        <th>COUNT(*)</th>\n",
       "    </tr>\n",
       "    <tr>\n",
       "        <td>20149</td>\n",
       "    </tr>\n",
       "</table>"
      ],
      "text/plain": [
       "[(20149,)]"
      ]
     },
     "execution_count": 11,
     "metadata": {},
     "output_type": "execute_result"
    }
   ],
   "source": [
    "%%sql\n",
    "SELECT COUNT(*) FROM flights WHERE Date = '2008/1/28'"
   ]
  },
  {
   "attachments": {},
   "cell_type": "markdown",
   "metadata": {
    "id": "OXlOG7e-vYYL"
   },
   "source": [
    "### ANSWER: 20149"
   ]
  },
  {
   "attachments": {},
   "cell_type": "markdown",
   "metadata": {
    "id": "L_a4l1Si_Ysw"
   },
   "source": [
    "**Question 4**\n",
    " \n",
    " What is the distance between Midway Airport (MDW) and Houston Airport (HOU)?"
   ]
  },
  {
   "cell_type": "code",
   "execution_count": 12,
   "metadata": {
    "id": "DopkPHBSAtoa"
   },
   "outputs": [
    {
     "name": "stdout",
     "output_type": "stream",
     "text": [
      " * sqlite:///flights.db\n",
      "Done.\n"
     ]
    },
    {
     "data": {
      "text/html": [
       "<table>\n",
       "    <tr>\n",
       "        <th>Origin</th>\n",
       "        <th>Dest</th>\n",
       "        <th>Distance</th>\n",
       "    </tr>\n",
       "    <tr>\n",
       "        <td>MDW</td>\n",
       "        <td>HOU</td>\n",
       "        <td>937</td>\n",
       "    </tr>\n",
       "</table>"
      ],
      "text/plain": [
       "[('MDW', 'HOU', 937)]"
      ]
     },
     "execution_count": 12,
     "metadata": {},
     "output_type": "execute_result"
    }
   ],
   "source": [
    "%%sql\n",
    "SELECT Origin, Dest, Distance FROM flights WHERE Origin = 'MDW' AND Dest = 'HOU'\n",
    "LIMIT 1"
   ]
  },
  {
   "attachments": {},
   "cell_type": "markdown",
   "metadata": {
    "id": "_Wy_hxQDvwjI"
   },
   "source": [
    "### ANSWER: 937km"
   ]
  },
  {
   "attachments": {},
   "cell_type": "markdown",
   "metadata": {
    "id": "7UhjfCajAw_m"
   },
   "source": [
    "**Question 5**\n",
    "\n",
    "Which day of the week had the highest number of cancelled flights?(Note 1 = cancelled , 0 = not cancelled;)"
   ]
  },
  {
   "cell_type": "code",
   "execution_count": 18,
   "metadata": {
    "id": "t1dYjEY7A1us"
   },
   "outputs": [
    {
     "name": "stdout",
     "output_type": "stream",
     "text": [
      " * sqlite:///flights.db\n",
      "Done.\n"
     ]
    },
    {
     "data": {
      "text/html": [
       "<table>\n",
       "    <tr>\n",
       "        <th>DayOfWeek</th>\n",
       "        <th>COUNT(DayOfWeek)</th>\n",
       "    </tr>\n",
       "    <tr>\n",
       "        <td>1</td>\n",
       "        <td>2617</td>\n",
       "    </tr>\n",
       "    <tr>\n",
       "        <td>2</td>\n",
       "        <td>2993</td>\n",
       "    </tr>\n",
       "    <tr>\n",
       "        <td>3</td>\n",
       "        <td>2645</td>\n",
       "    </tr>\n",
       "    <tr>\n",
       "        <td>4</td>\n",
       "        <td>3093</td>\n",
       "    </tr>\n",
       "    <tr>\n",
       "        <td>5</td>\n",
       "        <td>2049</td>\n",
       "    </tr>\n",
       "    <tr>\n",
       "        <td>6</td>\n",
       "        <td>1984</td>\n",
       "    </tr>\n",
       "    <tr>\n",
       "        <td>7</td>\n",
       "        <td>1927</td>\n",
       "    </tr>\n",
       "</table>"
      ],
      "text/plain": [
       "[(1, 2617), (2, 2993), (3, 2645), (4, 3093), (5, 2049), (6, 1984), (7, 1927)]"
      ]
     },
     "execution_count": 18,
     "metadata": {},
     "output_type": "execute_result"
    }
   ],
   "source": [
    "%%sql\n",
    "SELECT DayOfWeek, COUNT(DayOfWeek) FROM flights WHERE Cancelled = 1  GROUP BY DayOfWeek"
   ]
  },
  {
   "attachments": {},
   "cell_type": "markdown",
   "metadata": {
    "id": "oACxyy6_vy-g"
   },
   "source": [
    "### ANSWER: Thursday(4)"
   ]
  },
  {
   "attachments": {},
   "cell_type": "markdown",
   "metadata": {
    "id": "96IF0qcZA4SI"
   },
   "source": [
    "**Question 6**\n",
    "\n",
    "How many airports have the word \"International\" in their name?"
   ]
  },
  {
   "cell_type": "code",
   "execution_count": 14,
   "metadata": {
    "id": "h-lHG0C_DXfL"
   },
   "outputs": [
    {
     "name": "stdout",
     "output_type": "stream",
     "text": [
      " * sqlite:///flights.db\n",
      "Done.\n"
     ]
    },
    {
     "data": {
      "text/html": [
       "<table>\n",
       "    <tr>\n",
       "        <th>COUNT(airport)</th>\n",
       "    </tr>\n",
       "    <tr>\n",
       "        <td>124</td>\n",
       "    </tr>\n",
       "</table>"
      ],
      "text/plain": [
       "[(124,)]"
      ]
     },
     "execution_count": 14,
     "metadata": {},
     "output_type": "execute_result"
    }
   ],
   "source": [
    "%%sql\n",
    "SELECT COUNT(airport) FROM airports WHERE airport LIKE '%International%'"
   ]
  },
  {
   "attachments": {},
   "cell_type": "markdown",
   "metadata": {
    "id": "Hl7lHv_Iv1fA"
   },
   "source": [
    "### ANSWER:124"
   ]
  },
  {
   "attachments": {},
   "cell_type": "markdown",
   "metadata": {
    "id": "Xabo9EvoDfYT"
   },
   "source": [
    "**Question 7**\n",
    "\n",
    "What is the most produced model for the manufacturer \"BOEING\"?"
   ]
  },
  {
   "cell_type": "code",
   "execution_count": 15,
   "metadata": {
    "id": "OCnWyHOXDrvp"
   },
   "outputs": [
    {
     "name": "stdout",
     "output_type": "stream",
     "text": [
      " * sqlite:///flights.db\n",
      "Done.\n"
     ]
    },
    {
     "data": {
      "text/html": [
       "<table>\n",
       "    <tr>\n",
       "        <th>model</th>\n",
       "        <th>SUM (DISTINCT model)</th>\n",
       "    </tr>\n",
       "    <tr>\n",
       "        <td>717-200</td>\n",
       "        <td>717.0</td>\n",
       "    </tr>\n",
       "    <tr>\n",
       "        <td>737-230</td>\n",
       "        <td>737.0</td>\n",
       "    </tr>\n",
       "    <tr>\n",
       "        <td>737-236</td>\n",
       "        <td>737.0</td>\n",
       "    </tr>\n",
       "    <tr>\n",
       "        <td>737-282</td>\n",
       "        <td>737.0</td>\n",
       "    </tr>\n",
       "    <tr>\n",
       "        <td>737-282C</td>\n",
       "        <td>737.0</td>\n",
       "    </tr>\n",
       "    <tr>\n",
       "        <td>737-2P6</td>\n",
       "        <td>737.0</td>\n",
       "    </tr>\n",
       "    <tr>\n",
       "        <td>737-2X6C</td>\n",
       "        <td>737.0</td>\n",
       "    </tr>\n",
       "    <tr>\n",
       "        <td>737-2Y5</td>\n",
       "        <td>737.0</td>\n",
       "    </tr>\n",
       "    <tr>\n",
       "        <td>737-301</td>\n",
       "        <td>737.0</td>\n",
       "    </tr>\n",
       "    <tr>\n",
       "        <td>737-317</td>\n",
       "        <td>737.0</td>\n",
       "    </tr>\n",
       "    <tr>\n",
       "        <td>737-322</td>\n",
       "        <td>737.0</td>\n",
       "    </tr>\n",
       "    <tr>\n",
       "        <td>737-33A</td>\n",
       "        <td>737.0</td>\n",
       "    </tr>\n",
       "    <tr>\n",
       "        <td>737-3A4</td>\n",
       "        <td>737.0</td>\n",
       "    </tr>\n",
       "    <tr>\n",
       "        <td>737-3B7</td>\n",
       "        <td>737.0</td>\n",
       "    </tr>\n",
       "    <tr>\n",
       "        <td>737-3G7</td>\n",
       "        <td>737.0</td>\n",
       "    </tr>\n",
       "    <tr>\n",
       "        <td>737-3H4</td>\n",
       "        <td>737.0</td>\n",
       "    </tr>\n",
       "    <tr>\n",
       "        <td>737-3K2</td>\n",
       "        <td>737.0</td>\n",
       "    </tr>\n",
       "    <tr>\n",
       "        <td>737-3L9</td>\n",
       "        <td>737.0</td>\n",
       "    </tr>\n",
       "    <tr>\n",
       "        <td>737-3Q8</td>\n",
       "        <td>737.0</td>\n",
       "    </tr>\n",
       "    <tr>\n",
       "        <td>737-3S3</td>\n",
       "        <td>737.0</td>\n",
       "    </tr>\n",
       "    <tr>\n",
       "        <td>737-3T5</td>\n",
       "        <td>737.0</td>\n",
       "    </tr>\n",
       "    <tr>\n",
       "        <td>737-3TO</td>\n",
       "        <td>737.0</td>\n",
       "    </tr>\n",
       "    <tr>\n",
       "        <td>737-3Y0</td>\n",
       "        <td>737.0</td>\n",
       "    </tr>\n",
       "    <tr>\n",
       "        <td>737-401</td>\n",
       "        <td>737.0</td>\n",
       "    </tr>\n",
       "    <tr>\n",
       "        <td>737-490</td>\n",
       "        <td>737.0</td>\n",
       "    </tr>\n",
       "    <tr>\n",
       "        <td>737-4B7</td>\n",
       "        <td>737.0</td>\n",
       "    </tr>\n",
       "    <tr>\n",
       "        <td>737-4Q8</td>\n",
       "        <td>737.0</td>\n",
       "    </tr>\n",
       "    <tr>\n",
       "        <td>737-4S3</td>\n",
       "        <td>737.0</td>\n",
       "    </tr>\n",
       "    <tr>\n",
       "        <td>737-522</td>\n",
       "        <td>737.0</td>\n",
       "    </tr>\n",
       "    <tr>\n",
       "        <td>737-524</td>\n",
       "        <td>737.0</td>\n",
       "    </tr>\n",
       "    <tr>\n",
       "        <td>737-5H4</td>\n",
       "        <td>737.0</td>\n",
       "    </tr>\n",
       "    <tr>\n",
       "        <td>737-705</td>\n",
       "        <td>737.0</td>\n",
       "    </tr>\n",
       "    <tr>\n",
       "        <td>737-724</td>\n",
       "        <td>737.0</td>\n",
       "    </tr>\n",
       "    <tr>\n",
       "        <td>737-73A</td>\n",
       "        <td>737.0</td>\n",
       "    </tr>\n",
       "    <tr>\n",
       "        <td>737-76N</td>\n",
       "        <td>737.0</td>\n",
       "    </tr>\n",
       "    <tr>\n",
       "        <td>737-76Q</td>\n",
       "        <td>737.0</td>\n",
       "    </tr>\n",
       "    <tr>\n",
       "        <td>737-790</td>\n",
       "        <td>737.0</td>\n",
       "    </tr>\n",
       "    <tr>\n",
       "        <td>737-7AD</td>\n",
       "        <td>737.0</td>\n",
       "    </tr>\n",
       "    <tr>\n",
       "        <td>737-7BD</td>\n",
       "        <td>737.0</td>\n",
       "    </tr>\n",
       "    <tr>\n",
       "        <td>737-7H4</td>\n",
       "        <td>737.0</td>\n",
       "    </tr>\n",
       "    <tr>\n",
       "        <td>737-7Q8</td>\n",
       "        <td>737.0</td>\n",
       "    </tr>\n",
       "    <tr>\n",
       "        <td>737-824</td>\n",
       "        <td>737.0</td>\n",
       "    </tr>\n",
       "    <tr>\n",
       "        <td>737-832</td>\n",
       "        <td>737.0</td>\n",
       "    </tr>\n",
       "    <tr>\n",
       "        <td>737-890</td>\n",
       "        <td>737.0</td>\n",
       "    </tr>\n",
       "    <tr>\n",
       "        <td>737-8FH</td>\n",
       "        <td>737.0</td>\n",
       "    </tr>\n",
       "    <tr>\n",
       "        <td>737-924</td>\n",
       "        <td>737.0</td>\n",
       "    </tr>\n",
       "    <tr>\n",
       "        <td>737-924ER</td>\n",
       "        <td>737.0</td>\n",
       "    </tr>\n",
       "    <tr>\n",
       "        <td>737-990</td>\n",
       "        <td>737.0</td>\n",
       "    </tr>\n",
       "    <tr>\n",
       "        <td>747-2B5F</td>\n",
       "        <td>747.0</td>\n",
       "    </tr>\n",
       "    <tr>\n",
       "        <td>747-422</td>\n",
       "        <td>747.0</td>\n",
       "    </tr>\n",
       "    <tr>\n",
       "        <td>747-451</td>\n",
       "        <td>747.0</td>\n",
       "    </tr>\n",
       "    <tr>\n",
       "        <td>757-212</td>\n",
       "        <td>757.0</td>\n",
       "    </tr>\n",
       "    <tr>\n",
       "        <td>757-222</td>\n",
       "        <td>757.0</td>\n",
       "    </tr>\n",
       "    <tr>\n",
       "        <td>757-223</td>\n",
       "        <td>757.0</td>\n",
       "    </tr>\n",
       "    <tr>\n",
       "        <td>757-224</td>\n",
       "        <td>757.0</td>\n",
       "    </tr>\n",
       "    <tr>\n",
       "        <td>757-225</td>\n",
       "        <td>757.0</td>\n",
       "    </tr>\n",
       "    <tr>\n",
       "        <td>757-231</td>\n",
       "        <td>757.0</td>\n",
       "    </tr>\n",
       "    <tr>\n",
       "        <td>757-232</td>\n",
       "        <td>757.0</td>\n",
       "    </tr>\n",
       "    <tr>\n",
       "        <td>757-23N</td>\n",
       "        <td>757.0</td>\n",
       "    </tr>\n",
       "    <tr>\n",
       "        <td>757-251</td>\n",
       "        <td>757.0</td>\n",
       "    </tr>\n",
       "    <tr>\n",
       "        <td>757-26D</td>\n",
       "        <td>757.0</td>\n",
       "    </tr>\n",
       "    <tr>\n",
       "        <td>757-2B7</td>\n",
       "        <td>757.0</td>\n",
       "    </tr>\n",
       "    <tr>\n",
       "        <td>757-2G7</td>\n",
       "        <td>757.0</td>\n",
       "    </tr>\n",
       "    <tr>\n",
       "        <td>757-2Q8</td>\n",
       "        <td>757.0</td>\n",
       "    </tr>\n",
       "    <tr>\n",
       "        <td>757-2S7</td>\n",
       "        <td>757.0</td>\n",
       "    </tr>\n",
       "    <tr>\n",
       "        <td>757-324</td>\n",
       "        <td>757.0</td>\n",
       "    </tr>\n",
       "    <tr>\n",
       "        <td>757-33N</td>\n",
       "        <td>757.0</td>\n",
       "    </tr>\n",
       "    <tr>\n",
       "        <td>757-351</td>\n",
       "        <td>757.0</td>\n",
       "    </tr>\n",
       "    <tr>\n",
       "        <td>767-201</td>\n",
       "        <td>767.0</td>\n",
       "    </tr>\n",
       "    <tr>\n",
       "        <td>767-223</td>\n",
       "        <td>767.0</td>\n",
       "    </tr>\n",
       "    <tr>\n",
       "        <td>767-224</td>\n",
       "        <td>767.0</td>\n",
       "    </tr>\n",
       "    <tr>\n",
       "        <td>767-2B7</td>\n",
       "        <td>767.0</td>\n",
       "    </tr>\n",
       "    <tr>\n",
       "        <td>767-322</td>\n",
       "        <td>767.0</td>\n",
       "    </tr>\n",
       "    <tr>\n",
       "        <td>767-323</td>\n",
       "        <td>767.0</td>\n",
       "    </tr>\n",
       "    <tr>\n",
       "        <td>767-324</td>\n",
       "        <td>767.0</td>\n",
       "    </tr>\n",
       "    <tr>\n",
       "        <td>767-332</td>\n",
       "        <td>767.0</td>\n",
       "    </tr>\n",
       "    <tr>\n",
       "        <td>767-33A</td>\n",
       "        <td>767.0</td>\n",
       "    </tr>\n",
       "    <tr>\n",
       "        <td>767-3CB</td>\n",
       "        <td>767.0</td>\n",
       "    </tr>\n",
       "    <tr>\n",
       "        <td>767-3G5</td>\n",
       "        <td>767.0</td>\n",
       "    </tr>\n",
       "    <tr>\n",
       "        <td>767-3P6</td>\n",
       "        <td>767.0</td>\n",
       "    </tr>\n",
       "    <tr>\n",
       "        <td>767-424ER</td>\n",
       "        <td>767.0</td>\n",
       "    </tr>\n",
       "    <tr>\n",
       "        <td>767-432ER</td>\n",
       "        <td>767.0</td>\n",
       "    </tr>\n",
       "    <tr>\n",
       "        <td>777-222</td>\n",
       "        <td>777.0</td>\n",
       "    </tr>\n",
       "    <tr>\n",
       "        <td>777-224</td>\n",
       "        <td>777.0</td>\n",
       "    </tr>\n",
       "    <tr>\n",
       "        <td>777-232</td>\n",
       "        <td>777.0</td>\n",
       "    </tr>\n",
       "    <tr>\n",
       "        <td>777-232LR</td>\n",
       "        <td>777.0</td>\n",
       "    </tr>\n",
       "</table>"
      ],
      "text/plain": [
       "[('717-200', 717.0),\n",
       " ('737-230', 737.0),\n",
       " ('737-236', 737.0),\n",
       " ('737-282', 737.0),\n",
       " ('737-282C', 737.0),\n",
       " ('737-2P6', 737.0),\n",
       " ('737-2X6C', 737.0),\n",
       " ('737-2Y5', 737.0),\n",
       " ('737-301', 737.0),\n",
       " ('737-317', 737.0),\n",
       " ('737-322', 737.0),\n",
       " ('737-33A', 737.0),\n",
       " ('737-3A4', 737.0),\n",
       " ('737-3B7', 737.0),\n",
       " ('737-3G7', 737.0),\n",
       " ('737-3H4', 737.0),\n",
       " ('737-3K2', 737.0),\n",
       " ('737-3L9', 737.0),\n",
       " ('737-3Q8', 737.0),\n",
       " ('737-3S3', 737.0),\n",
       " ('737-3T5', 737.0),\n",
       " ('737-3TO', 737.0),\n",
       " ('737-3Y0', 737.0),\n",
       " ('737-401', 737.0),\n",
       " ('737-490', 737.0),\n",
       " ('737-4B7', 737.0),\n",
       " ('737-4Q8', 737.0),\n",
       " ('737-4S3', 737.0),\n",
       " ('737-522', 737.0),\n",
       " ('737-524', 737.0),\n",
       " ('737-5H4', 737.0),\n",
       " ('737-705', 737.0),\n",
       " ('737-724', 737.0),\n",
       " ('737-73A', 737.0),\n",
       " ('737-76N', 737.0),\n",
       " ('737-76Q', 737.0),\n",
       " ('737-790', 737.0),\n",
       " ('737-7AD', 737.0),\n",
       " ('737-7BD', 737.0),\n",
       " ('737-7H4', 737.0),\n",
       " ('737-7Q8', 737.0),\n",
       " ('737-824', 737.0),\n",
       " ('737-832', 737.0),\n",
       " ('737-890', 737.0),\n",
       " ('737-8FH', 737.0),\n",
       " ('737-924', 737.0),\n",
       " ('737-924ER', 737.0),\n",
       " ('737-990', 737.0),\n",
       " ('747-2B5F', 747.0),\n",
       " ('747-422', 747.0),\n",
       " ('747-451', 747.0),\n",
       " ('757-212', 757.0),\n",
       " ('757-222', 757.0),\n",
       " ('757-223', 757.0),\n",
       " ('757-224', 757.0),\n",
       " ('757-225', 757.0),\n",
       " ('757-231', 757.0),\n",
       " ('757-232', 757.0),\n",
       " ('757-23N', 757.0),\n",
       " ('757-251', 757.0),\n",
       " ('757-26D', 757.0),\n",
       " ('757-2B7', 757.0),\n",
       " ('757-2G7', 757.0),\n",
       " ('757-2Q8', 757.0),\n",
       " ('757-2S7', 757.0),\n",
       " ('757-324', 757.0),\n",
       " ('757-33N', 757.0),\n",
       " ('757-351', 757.0),\n",
       " ('767-201', 767.0),\n",
       " ('767-223', 767.0),\n",
       " ('767-224', 767.0),\n",
       " ('767-2B7', 767.0),\n",
       " ('767-322', 767.0),\n",
       " ('767-323', 767.0),\n",
       " ('767-324', 767.0),\n",
       " ('767-332', 767.0),\n",
       " ('767-33A', 767.0),\n",
       " ('767-3CB', 767.0),\n",
       " ('767-3G5', 767.0),\n",
       " ('767-3P6', 767.0),\n",
       " ('767-424ER', 767.0),\n",
       " ('767-432ER', 767.0),\n",
       " ('777-222', 777.0),\n",
       " ('777-224', 777.0),\n",
       " ('777-232', 777.0),\n",
       " ('777-232LR', 777.0)]"
      ]
     },
     "execution_count": 15,
     "metadata": {},
     "output_type": "execute_result"
    }
   ],
   "source": [
    "%%sql\n",
    "SELECT model, SUM (DISTINCT model) FROM planes WHERE manufacturer = \"BOEING\" GROUP BY model"
   ]
  },
  {
   "attachments": {},
   "cell_type": "markdown",
   "metadata": {
    "id": "iQv83kHVv3SC"
   },
   "source": [
    "### ANSWER: 757-222"
   ]
  },
  {
   "attachments": {},
   "cell_type": "markdown",
   "metadata": {
    "id": "NZheC-NnD2VO"
   },
   "source": [
    "**Question 8**\n",
    "\n",
    "How many planes landed at Los Angeles International Airport?"
   ]
  },
  {
   "cell_type": "code",
   "execution_count": 16,
   "metadata": {},
   "outputs": [
    {
     "name": "stdout",
     "output_type": "stream",
     "text": [
      " * sqlite:///flights.db\n",
      "Done.\n"
     ]
    },
    {
     "data": {
      "text/html": [
       "<table>\n",
       "    <tr>\n",
       "        <th>airport</th>\n",
       "        <th>COUNT(Dest)</th>\n",
       "    </tr>\n",
       "    <tr>\n",
       "        <td>Los Angeles International</td>\n",
       "        <td>18964</td>\n",
       "    </tr>\n",
       "</table>"
      ],
      "text/plain": [
       "[('Los Angeles International', 18964)]"
      ]
     },
     "execution_count": 16,
     "metadata": {},
     "output_type": "execute_result"
    }
   ],
   "source": [
    "%%sql\n",
    "SELECT airport, COUNT(Dest) FROM airports\n",
    "LEFT JOIN flights ON airports.iata = flights.Dest\n",
    "WHERE airport = 'Los Angeles International'"
   ]
  },
  {
   "attachments": {},
   "cell_type": "markdown",
   "metadata": {
    "id": "a_AnVjD2v5PQ"
   },
   "source": [
    "### ANSWER: 18964"
   ]
  },
  {
   "cell_type": "code",
   "execution_count": null,
   "metadata": {},
   "outputs": [],
   "source": []
  }
 ],
 "metadata": {
  "colab": {
   "collapsed_sections": [],
   "provenance": []
  },
  "kernelspec": {
   "display_name": "Python 3 (ipykernel)",
   "language": "python",
   "name": "python3"
  },
  "language_info": {
   "codemirror_mode": {
    "name": "ipython",
    "version": 3
   },
   "file_extension": ".py",
   "mimetype": "text/x-python",
   "name": "python",
   "nbconvert_exporter": "python",
   "pygments_lexer": "ipython3",
   "version": "3.9.13"
  },
  "vscode": {
   "interpreter": {
    "hash": "a359685e08922bcebbd2698e137097bd4e5596a613ee512a9c1ead37d8d76759"
   }
  }
 },
 "nbformat": 4,
 "nbformat_minor": 1
}
