{
  "nbformat": 4,
  "nbformat_minor": 0,
  "metadata": {
    "colab": {
      "provenance": []
    },
    "kernelspec": {
      "name": "python3",
      "display_name": "Python 3"
    },
    "language_info": {
      "name": "python"
    }
  },
  "cells": [
    {
      "cell_type": "markdown",
      "source": [
        "#Web Scraping Land Price Data"
      ],
      "metadata": {
        "id": "UvyORFN9KsE2"
      }
    },
    {
      "cell_type": "markdown",
      "source": [
        "\n",
        "\n",
        "*   Import libraries\n",
        "*   Create ETL functions\n",
        "*   Scrape the Data\n",
        "*   Create a CSV file\n",
        "\n",
        "\n",
        "\n"
      ],
      "metadata": {
        "id": "S_55Dp5ZKzRj"
      }
    },
    {
      "cell_type": "markdown",
      "source": [
        "##1.) Import Libraries"
      ],
      "metadata": {
        "id": "pTr79a8ILfiU"
      }
    },
    {
      "cell_type": "code",
      "execution_count": null,
      "metadata": {
        "id": "rNzPD1xpKYKh"
      },
      "outputs": [],
      "source": [
        "import requests\n",
        "from bs4 import BeautifulSoup"
      ]
    },
    {
      "cell_type": "markdown",
      "source": [
        "#Inspecting url"
      ],
      "metadata": {
        "id": "IQ2CNKpkeu4I"
      }
    },
    {
      "cell_type": "code",
      "source": [
        "response = requests.get('https://www.jumia.cm/en/land-plots')\n",
        "response"
      ],
      "metadata": {
        "colab": {
          "base_uri": "https://localhost:8080/"
        },
        "id": "PYDVnrVaG8PN",
        "outputId": "e52f7f8e-6fff-4072-d8c7-d13196fb5384"
      },
      "execution_count": null,
      "outputs": [
        {
          "output_type": "execute_result",
          "data": {
            "text/plain": [
              "<Response [200]>"
            ]
          },
          "metadata": {},
          "execution_count": 2
        }
      ]
    },
    {
      "cell_type": "code",
      "source": [
        "soup = BeautifulSoup(response.text,'html.parser')"
      ],
      "metadata": {
        "id": "20augmAHUk5a"
      },
      "execution_count": null,
      "outputs": []
    },
    {
      "cell_type": "code",
      "source": [
        "list_urls = soup.find_all('article')\n",
        "list_urls"
      ],
      "metadata": {
        "id": "yjXMY5D2Ym2S",
        "colab": {
          "base_uri": "https://localhost:8080/"
        },
        "outputId": "61e3a7ae-97ba-4257-ade0-21a949c463f7"
      },
      "execution_count": null,
      "outputs": [
        {
          "output_type": "execute_result",
          "data": {
            "text/plain": [
              "[<article class=\"post-holder product-click \" data-event='{\"id\":\"12344516\",\"title\":\"Terrain titr\\u00e9\",\"price\":\"400000.00\",\"category\":\"Real Estate\\/Land &amp; Plots\"}' data-position=\"1\" data-state=\"approved\">\n",
              " <div class=\"post\">\n",
              " <div class=\"alignleft \">\n",
              " <img alt=\"Terrain titré - Cameroon\" itemprop=\"image\" src=\"https://www.jumia.cm/deals/images/placeholders/re/mini/land-plots.png\" title=\"Terrain titré - Cameroon\"/> </div>\n",
              " <div class=\"text-area\">\n",
              " <span class=\"icon-pic no-pic\" data-nb-pics=\"0\"></span><!--\n",
              " --><div class=\"announcement-container\">\n",
              " <div class=\"announcement-infos\">\n",
              " <a class=\"post-link post-vip\" href=\"/en/terrain-titr--pid12344516\" title=\"Terrain titré\"><span>Terrain titré</span></a>\n",
              " <span class=\"address\">\n",
              "                                                     Land &amp; Plots,\n",
              "                                                                             Bastos                                            </span>\n",
              " </div><!--\n",
              " --><div class=\"price-date\">\n",
              " <span class=\"price\">\n",
              "                                                 400 000 FCFA                    </span>\n",
              " <time datetime=\"6.6.2022 18:25\">Today, 18:25</time>\n",
              " </div>\n",
              " <div class=\"info-zone\">\n",
              " <a class=\"heartbeat favorite-action \" href=\"/en/favorites/create/12344516\">\n",
              " </a>\n",
              " </div>\n",
              " </div>\n",
              " </div>\n",
              " </div>\n",
              " </article>,\n",
              " <article class=\"post-holder product-click \" data-event='{\"id\":\"12239087\",\"title\":\"Terrain Titr\\u00e9 a Vendre Au Centre D Elat\",\"price\":\"5000.00\",\"category\":\"Real Estate\\/Land &amp; Plots\"}' data-position=\"2\" data-state=\"approved\">\n",
              " <div class=\"post\">\n",
              " <div class=\"alignleft \">\n",
              " <img alt=\"Terrain Titré a Vendre Au Centre D Elat - Cameroon\" class=\"product-images\" data-src=\"https://d1dwhi9yny5dep.cloudfront.net/cm_live/29ded8f6e1628b133f36a16.desktop-large.jpg\">\n",
              " <span class=\"icon-pic\" data-nb-pics=\"4\"></span>\n",
              " </img></div>\n",
              " <div class=\"text-area\">\n",
              " <span class=\"icon-pic \" data-nb-pics=\"4\"></span><!--\n",
              " --><div class=\"announcement-container\">\n",
              " <div class=\"announcement-infos\">\n",
              " <a class=\"post-link post-vip\" href=\"/en/terrain-titr-a-vendre-au-centre-d-elat-pid12239087\" title=\"Terrain Titré a Vendre Au Centre D Elat\"><span>Terrain Titré a Vendre Au Centre D Elat</span></a>\n",
              " <span class=\"address\">\n",
              "                                                     Land &amp; Plots,\n",
              "                                                                             Nkoabang                                            </span>\n",
              " </div><!--\n",
              " --><div class=\"price-date\">\n",
              " <span class=\"price\">\n",
              "                                                 5 000 FCFA                    </span>\n",
              " <time datetime=\"6.6.2022 17:42\">Today, 17:42</time>\n",
              " </div>\n",
              " <div class=\"info-zone\">\n",
              " <a class=\"heartbeat favorite-action \" href=\"/en/favorites/create/12239087\">\n",
              " </a>\n",
              " </div>\n",
              " </div>\n",
              " </div>\n",
              " </div>\n",
              " </article>,\n",
              " <article class=\"post-holder product-click \" data-event='{\"id\":\"12343668\",\"title\":\"Terrain yassa bwang bakoko de 300m2 bon prix \",\"price\":\"7500000.00\",\"category\":\"Real Estate\\/Land &amp; Plots\"}' data-position=\"3\" data-state=\"approved\">\n",
              " <div class=\"post\">\n",
              " <div class=\"alignleft \">\n",
              " <img alt=\"Terrain yassa bwang bakoko de 300m2 bon prix  - Cameroon\" class=\"product-images\" data-src=\"https://d1dwhi9yny5dep.cloudfront.net/cm_live/164d6e22ca629e14236858e.desktop-large.jpg\">\n",
              " <span class=\"icon-pic\" data-nb-pics=\"1\"></span>\n",
              " </img></div>\n",
              " <div class=\"text-area\">\n",
              " <span class=\"icon-pic \" data-nb-pics=\"1\"></span><!--\n",
              " --><div class=\"announcement-container\">\n",
              " <div class=\"announcement-infos\">\n",
              " <a class=\"post-link post-vip\" href=\"/en/terrain-yassa-bwang-bakoko-de-300m2-bon-prix--pid12343668\" title=\"Terrain yassa bwang bakoko de 300m2 bon prix \"><span>Terrain yassa bwang bakoko de 300m2 bon prix </span></a>\n",
              " <span class=\"address\">\n",
              "                                                     Land &amp; Plots,\n",
              "                                                                             Yassa                                            </span>\n",
              " </div><!--\n",
              " --><div class=\"price-date\">\n",
              " <span class=\"price\">\n",
              "                                                 7 500 000 FCFA                    </span>\n",
              " <time datetime=\"6.6.2022 15:51\">Today, 15:51</time>\n",
              " </div>\n",
              " <div class=\"info-zone\">\n",
              " <a class=\"heartbeat favorite-action \" href=\"/en/favorites/create/12343668\">\n",
              " </a>\n",
              " </div>\n",
              " </div>\n",
              " </div>\n",
              " </div>\n",
              " </article>,\n",
              " <article class=\"post-holder product-click \" data-event='{\"id\":\"12343251\",\"title\":\"Terrain \\u00c0 Vendre : Odza\",\"price\":\"60000.00\",\"category\":\"Real Estate\\/Land &amp; Plots\"}' data-position=\"4\" data-state=\"approved\">\n",
              " <div class=\"post\">\n",
              " <div class=\"alignleft \">\n",
              " <img alt=\"Terrain À Vendre : Odza - Cameroon\" class=\"product-images\" data-src=\"https://d1dwhi9yny5dep.cloudfront.net/cm_live/5c0ef7ce62629e04011ad14.desktop-large.jpg\"/>\n",
              " <span class=\"icon-pic\" data-nb-pics=\"1\"></span>\n",
              " </div>\n",
              " <div class=\"text-area\">\n",
              " <span class=\"icon-pic \" data-nb-pics=\"1\"></span><!--\n",
              " --><div class=\"announcement-container\">\n",
              " <div class=\"announcement-infos\">\n",
              " <a class=\"post-link post-vip\" href=\"/en/terrain-vendre-odza-pid12343251\" title=\"Terrain À Vendre : Odza\"><span>Terrain À Vendre : Odza</span></a>\n",
              " <span class=\"address\">\n",
              "                                                     Land &amp; Plots,\n",
              "                                                                             Odza                                            </span>\n",
              " </div><!--\n",
              " --><div class=\"price-date\">\n",
              " <span class=\"price\">\n",
              "                                                 60 000 FCFA                    </span>\n",
              " <time datetime=\"6.6.2022 14:41\">Today, 14:41</time>\n",
              " </div>\n",
              " <div class=\"info-zone\">\n",
              " <a class=\"heartbeat favorite-action \" href=\"/en/favorites/create/12343251\">\n",
              " </a>\n",
              " </div>\n",
              " </div>\n",
              " </div>\n",
              " </div>\n",
              " </article>,\n",
              " <article class=\"post-holder product-click \" data-event='{\"id\":\"12342926\",\"title\":\"Terrain \\u00e0 vendre : Omnisports\",\"price\":\"180000.00\",\"category\":\"Real Estate\\/Land &amp; Plots\"}' data-position=\"5\" data-state=\"approved\">\n",
              " <div class=\"post\">\n",
              " <div class=\"alignleft \">\n",
              " <img alt=\"Terrain à vendre : Omnisports - Cameroon\" class=\"product-images\" data-src=\"https://d1dwhi9yny5dep.cloudfront.net/cm_live/84c713d356629df8470d16a.desktop-large.jpg\"/>\n",
              " <span class=\"icon-pic\" data-nb-pics=\"1\"></span>\n",
              " </div>\n",
              " <div class=\"text-area\">\n",
              " <span class=\"icon-pic \" data-nb-pics=\"1\"></span><!--\n",
              " --><div class=\"announcement-container\">\n",
              " <div class=\"announcement-infos\">\n",
              " <a class=\"post-link post-vip\" href=\"/en/terrain-vendre-omnisports-pid12342926\" title=\"Terrain à vendre : Omnisports\"><span>Terrain à vendre : Omnisports</span></a>\n",
              " <span class=\"address\">\n",
              "                                                     Land &amp; Plots,\n",
              "                                                                             Omnisports                                            </span>\n",
              " </div><!--\n",
              " --><div class=\"price-date\">\n",
              " <span class=\"price\">\n",
              "                                                 180 000 FCFA                    </span>\n",
              " <time datetime=\"6.6.2022 13:51\">Today, 13:51</time>\n",
              " </div>\n",
              " <div class=\"info-zone\">\n",
              " <a class=\"heartbeat favorite-action \" href=\"/en/favorites/create/12342926\">\n",
              " </a>\n",
              " </div>\n",
              " </div>\n",
              " </div>\n",
              " </div>\n",
              " </article>,\n",
              " <article class=\"post-holder product-click \" data-event='{\"id\":\"12342919\",\"title\":\"Terrain \\u00e0 vendre : Afanoyoa\",\"price\":\"3500000.00\",\"category\":\"Real Estate\\/Land &amp; Plots\"}' data-position=\"6\" data-state=\"approved\">\n",
              " <div class=\"post\">\n",
              " <div class=\"alignleft \">\n",
              " <img alt=\"Terrain à vendre : Afanoyoa - Cameroon\" class=\"product-images\" data-src=\"https://d1dwhi9yny5dep.cloudfront.net/cm_live/ff64f2b269629df801b0121.desktop-large.jpg\"/>\n",
              " <span class=\"icon-pic\" data-nb-pics=\"1\"></span>\n",
              " </div>\n",
              " <div class=\"text-area\">\n",
              " <span class=\"icon-pic \" data-nb-pics=\"1\"></span><!--\n",
              " --><div class=\"announcement-container\">\n",
              " <div class=\"announcement-infos\">\n",
              " <a class=\"post-link post-vip\" href=\"/en/terrain-vendre-afanoyoa-pid12342919\" title=\"Terrain à vendre : Afanoyoa\"><span>Terrain à vendre : Afanoyoa</span></a>\n",
              " <span class=\"address\">\n",
              "                                                     Land &amp; Plots,\n",
              "                                                                             Yaoundé                                            </span>\n",
              " </div><!--\n",
              " --><div class=\"price-date\">\n",
              " <span class=\"price\">\n",
              "                                                 3 500 000 FCFA                    </span>\n",
              " <time datetime=\"6.6.2022 13:50\">Today, 13:50</time>\n",
              " </div>\n",
              " <div class=\"info-zone\">\n",
              " <a class=\"heartbeat favorite-action \" href=\"/en/favorites/create/12342919\">\n",
              " </a>\n",
              " </div>\n",
              " </div>\n",
              " </div>\n",
              " </div>\n",
              " </article>,\n",
              " <article class=\"post-holder product-click \" data-event='{\"id\":\"12342897\",\"title\":\"Terrain \\u00e0 vendre : Odza\",\"price\":\"60000.00\",\"category\":\"Real Estate\\/Land &amp; Plots\"}' data-position=\"7\" data-state=\"approved\">\n",
              " <div class=\"post\">\n",
              " <div class=\"alignleft \">\n",
              " <img alt=\"Terrain à vendre : Odza - Cameroon\" class=\"product-images\" data-src=\"https://d1dwhi9yny5dep.cloudfront.net/cm_live/61c38e9b0e629df73149797.desktop-large.jpg\"/>\n",
              " <span class=\"icon-pic\" data-nb-pics=\"1\"></span>\n",
              " </div>\n",
              " <div class=\"text-area\">\n",
              " <span class=\"icon-pic \" data-nb-pics=\"1\"></span><!--\n",
              " --><div class=\"announcement-container\">\n",
              " <div class=\"announcement-infos\">\n",
              " <a class=\"post-link post-vip\" href=\"/en/terrain-vendre-odza-pid12342897\" title=\"Terrain à vendre : Odza\"><span>Terrain à vendre : Odza</span></a>\n",
              " <span class=\"address\">\n",
              "                                                     Land &amp; Plots,\n",
              "                                                                             Odza                                            </span>\n",
              " </div><!--\n",
              " --><div class=\"price-date\">\n",
              " <span class=\"price\">\n",
              "                                                 60 000 FCFA                    </span>\n",
              " <time datetime=\"6.6.2022 13:46\">Today, 13:46</time>\n",
              " </div>\n",
              " <div class=\"info-zone\">\n",
              " <a class=\"heartbeat favorite-action \" href=\"/en/favorites/create/12342897\">\n",
              " </a>\n",
              " </div>\n",
              " </div>\n",
              " </div>\n",
              " </div>\n",
              " </article>,\n",
              " <article class=\"post-holder product-click \" data-event='{\"id\":\"12342872\",\"title\":\"2 lots de Terrain \\u00e0 vendre : Mballa 2\",\"price\":\"200000.00\",\"category\":\"Real Estate\\/Land &amp; Plots\"}' data-position=\"8\" data-state=\"approved\">\n",
              " <div class=\"post\">\n",
              " <div class=\"alignleft \">\n",
              " <img alt=\"2 lots de Terrain à vendre : Mballa 2 - Cameroon\" class=\"product-images\" data-src=\"https://d1dwhi9yny5dep.cloudfront.net/cm_live/6a683b1ce8629df645de134.desktop-large.jpg\"/>\n",
              " <span class=\"icon-pic\" data-nb-pics=\"1\"></span>\n",
              " </div>\n",
              " <div class=\"text-area\">\n",
              " <span class=\"icon-pic \" data-nb-pics=\"1\"></span><!--\n",
              " --><div class=\"announcement-container\">\n",
              " <div class=\"announcement-infos\">\n",
              " <a class=\"post-link post-vip\" href=\"/en/2-lots-de-terrain-vendre-mballa-2-pid12342872\" title=\"2 lots de Terrain à vendre : Mballa 2\"><span>2 lots de Terrain à vendre : Mballa 2</span></a>\n",
              " <span class=\"address\">\n",
              "                                                     Land &amp; Plots,\n",
              "                                                                             Mballa 2                                            </span>\n",
              " </div><!--\n",
              " --><div class=\"price-date\">\n",
              " <span class=\"price\">\n",
              "                                                 200 000 FCFA                    </span>\n",
              " <time datetime=\"6.6.2022 13:42\">Today, 13:42</time>\n",
              " </div>\n",
              " <div class=\"info-zone\">\n",
              " <a class=\"heartbeat favorite-action \" href=\"/en/favorites/create/12342872\">\n",
              " </a>\n",
              " </div>\n",
              " </div>\n",
              " </div>\n",
              " </div>\n",
              " </article>]"
            ]
          },
          "metadata": {},
          "execution_count": 4
        }
      ]
    },
    {
      "cell_type": "code",
      "source": [
        "for partial_url in list_urls:\n",
        "  print(partial_url)"
      ],
      "metadata": {
        "id": "mnlL4UjdZbeU",
        "colab": {
          "base_uri": "https://localhost:8080/"
        },
        "outputId": "4729b53a-3be7-4918-93ef-9414f2182cfa"
      },
      "execution_count": null,
      "outputs": [
        {
          "output_type": "stream",
          "name": "stdout",
          "text": [
            "<article class=\"post-holder product-click \" data-event='{\"id\":\"12344516\",\"title\":\"Terrain titr\\u00e9\",\"price\":\"400000.00\",\"category\":\"Real Estate\\/Land &amp; Plots\"}' data-position=\"1\" data-state=\"approved\">\n",
            "<div class=\"post\">\n",
            "<div class=\"alignleft \">\n",
            "<img alt=\"Terrain titré - Cameroon\" itemprop=\"image\" src=\"https://www.jumia.cm/deals/images/placeholders/re/mini/land-plots.png\" title=\"Terrain titré - Cameroon\"/> </div>\n",
            "<div class=\"text-area\">\n",
            "<span class=\"icon-pic no-pic\" data-nb-pics=\"0\"></span><!--\n",
            "--><div class=\"announcement-container\">\n",
            "<div class=\"announcement-infos\">\n",
            "<a class=\"post-link post-vip\" href=\"/en/terrain-titr--pid12344516\" title=\"Terrain titré\"><span>Terrain titré</span></a>\n",
            "<span class=\"address\">\n",
            "                                                    Land &amp; Plots,\n",
            "                                                                            Bastos                                            </span>\n",
            "</div><!--\n",
            "--><div class=\"price-date\">\n",
            "<span class=\"price\">\n",
            "                                                400 000 FCFA                    </span>\n",
            "<time datetime=\"6.6.2022 18:25\">Today, 18:25</time>\n",
            "</div>\n",
            "<div class=\"info-zone\">\n",
            "<a class=\"heartbeat favorite-action \" href=\"/en/favorites/create/12344516\">\n",
            "</a>\n",
            "</div>\n",
            "</div>\n",
            "</div>\n",
            "</div>\n",
            "</article>\n",
            "<article class=\"post-holder product-click \" data-event='{\"id\":\"12239087\",\"title\":\"Terrain Titr\\u00e9 a Vendre Au Centre D Elat\",\"price\":\"5000.00\",\"category\":\"Real Estate\\/Land &amp; Plots\"}' data-position=\"2\" data-state=\"approved\">\n",
            "<div class=\"post\">\n",
            "<div class=\"alignleft \">\n",
            "<img alt=\"Terrain Titré a Vendre Au Centre D Elat - Cameroon\" class=\"product-images\" data-src=\"https://d1dwhi9yny5dep.cloudfront.net/cm_live/29ded8f6e1628b133f36a16.desktop-large.jpg\">\n",
            "<span class=\"icon-pic\" data-nb-pics=\"4\"></span>\n",
            "</img></div>\n",
            "<div class=\"text-area\">\n",
            "<span class=\"icon-pic \" data-nb-pics=\"4\"></span><!--\n",
            "--><div class=\"announcement-container\">\n",
            "<div class=\"announcement-infos\">\n",
            "<a class=\"post-link post-vip\" href=\"/en/terrain-titr-a-vendre-au-centre-d-elat-pid12239087\" title=\"Terrain Titré a Vendre Au Centre D Elat\"><span>Terrain Titré a Vendre Au Centre D Elat</span></a>\n",
            "<span class=\"address\">\n",
            "                                                    Land &amp; Plots,\n",
            "                                                                            Nkoabang                                            </span>\n",
            "</div><!--\n",
            "--><div class=\"price-date\">\n",
            "<span class=\"price\">\n",
            "                                                5 000 FCFA                    </span>\n",
            "<time datetime=\"6.6.2022 17:42\">Today, 17:42</time>\n",
            "</div>\n",
            "<div class=\"info-zone\">\n",
            "<a class=\"heartbeat favorite-action \" href=\"/en/favorites/create/12239087\">\n",
            "</a>\n",
            "</div>\n",
            "</div>\n",
            "</div>\n",
            "</div>\n",
            "</article>\n",
            "<article class=\"post-holder product-click \" data-event='{\"id\":\"12343668\",\"title\":\"Terrain yassa bwang bakoko de 300m2 bon prix \",\"price\":\"7500000.00\",\"category\":\"Real Estate\\/Land &amp; Plots\"}' data-position=\"3\" data-state=\"approved\">\n",
            "<div class=\"post\">\n",
            "<div class=\"alignleft \">\n",
            "<img alt=\"Terrain yassa bwang bakoko de 300m2 bon prix  - Cameroon\" class=\"product-images\" data-src=\"https://d1dwhi9yny5dep.cloudfront.net/cm_live/164d6e22ca629e14236858e.desktop-large.jpg\">\n",
            "<span class=\"icon-pic\" data-nb-pics=\"1\"></span>\n",
            "</img></div>\n",
            "<div class=\"text-area\">\n",
            "<span class=\"icon-pic \" data-nb-pics=\"1\"></span><!--\n",
            "--><div class=\"announcement-container\">\n",
            "<div class=\"announcement-infos\">\n",
            "<a class=\"post-link post-vip\" href=\"/en/terrain-yassa-bwang-bakoko-de-300m2-bon-prix--pid12343668\" title=\"Terrain yassa bwang bakoko de 300m2 bon prix \"><span>Terrain yassa bwang bakoko de 300m2 bon prix </span></a>\n",
            "<span class=\"address\">\n",
            "                                                    Land &amp; Plots,\n",
            "                                                                            Yassa                                            </span>\n",
            "</div><!--\n",
            "--><div class=\"price-date\">\n",
            "<span class=\"price\">\n",
            "                                                7 500 000 FCFA                    </span>\n",
            "<time datetime=\"6.6.2022 15:51\">Today, 15:51</time>\n",
            "</div>\n",
            "<div class=\"info-zone\">\n",
            "<a class=\"heartbeat favorite-action \" href=\"/en/favorites/create/12343668\">\n",
            "</a>\n",
            "</div>\n",
            "</div>\n",
            "</div>\n",
            "</div>\n",
            "</article>\n",
            "<article class=\"post-holder product-click \" data-event='{\"id\":\"12343251\",\"title\":\"Terrain \\u00c0 Vendre : Odza\",\"price\":\"60000.00\",\"category\":\"Real Estate\\/Land &amp; Plots\"}' data-position=\"4\" data-state=\"approved\">\n",
            "<div class=\"post\">\n",
            "<div class=\"alignleft \">\n",
            "<img alt=\"Terrain À Vendre : Odza - Cameroon\" class=\"product-images\" data-src=\"https://d1dwhi9yny5dep.cloudfront.net/cm_live/5c0ef7ce62629e04011ad14.desktop-large.jpg\"/>\n",
            "<span class=\"icon-pic\" data-nb-pics=\"1\"></span>\n",
            "</div>\n",
            "<div class=\"text-area\">\n",
            "<span class=\"icon-pic \" data-nb-pics=\"1\"></span><!--\n",
            "--><div class=\"announcement-container\">\n",
            "<div class=\"announcement-infos\">\n",
            "<a class=\"post-link post-vip\" href=\"/en/terrain-vendre-odza-pid12343251\" title=\"Terrain À Vendre : Odza\"><span>Terrain À Vendre : Odza</span></a>\n",
            "<span class=\"address\">\n",
            "                                                    Land &amp; Plots,\n",
            "                                                                            Odza                                            </span>\n",
            "</div><!--\n",
            "--><div class=\"price-date\">\n",
            "<span class=\"price\">\n",
            "                                                60 000 FCFA                    </span>\n",
            "<time datetime=\"6.6.2022 14:41\">Today, 14:41</time>\n",
            "</div>\n",
            "<div class=\"info-zone\">\n",
            "<a class=\"heartbeat favorite-action \" href=\"/en/favorites/create/12343251\">\n",
            "</a>\n",
            "</div>\n",
            "</div>\n",
            "</div>\n",
            "</div>\n",
            "</article>\n",
            "<article class=\"post-holder product-click \" data-event='{\"id\":\"12342926\",\"title\":\"Terrain \\u00e0 vendre : Omnisports\",\"price\":\"180000.00\",\"category\":\"Real Estate\\/Land &amp; Plots\"}' data-position=\"5\" data-state=\"approved\">\n",
            "<div class=\"post\">\n",
            "<div class=\"alignleft \">\n",
            "<img alt=\"Terrain à vendre : Omnisports - Cameroon\" class=\"product-images\" data-src=\"https://d1dwhi9yny5dep.cloudfront.net/cm_live/84c713d356629df8470d16a.desktop-large.jpg\"/>\n",
            "<span class=\"icon-pic\" data-nb-pics=\"1\"></span>\n",
            "</div>\n",
            "<div class=\"text-area\">\n",
            "<span class=\"icon-pic \" data-nb-pics=\"1\"></span><!--\n",
            "--><div class=\"announcement-container\">\n",
            "<div class=\"announcement-infos\">\n",
            "<a class=\"post-link post-vip\" href=\"/en/terrain-vendre-omnisports-pid12342926\" title=\"Terrain à vendre : Omnisports\"><span>Terrain à vendre : Omnisports</span></a>\n",
            "<span class=\"address\">\n",
            "                                                    Land &amp; Plots,\n",
            "                                                                            Omnisports                                            </span>\n",
            "</div><!--\n",
            "--><div class=\"price-date\">\n",
            "<span class=\"price\">\n",
            "                                                180 000 FCFA                    </span>\n",
            "<time datetime=\"6.6.2022 13:51\">Today, 13:51</time>\n",
            "</div>\n",
            "<div class=\"info-zone\">\n",
            "<a class=\"heartbeat favorite-action \" href=\"/en/favorites/create/12342926\">\n",
            "</a>\n",
            "</div>\n",
            "</div>\n",
            "</div>\n",
            "</div>\n",
            "</article>\n",
            "<article class=\"post-holder product-click \" data-event='{\"id\":\"12342919\",\"title\":\"Terrain \\u00e0 vendre : Afanoyoa\",\"price\":\"3500000.00\",\"category\":\"Real Estate\\/Land &amp; Plots\"}' data-position=\"6\" data-state=\"approved\">\n",
            "<div class=\"post\">\n",
            "<div class=\"alignleft \">\n",
            "<img alt=\"Terrain à vendre : Afanoyoa - Cameroon\" class=\"product-images\" data-src=\"https://d1dwhi9yny5dep.cloudfront.net/cm_live/ff64f2b269629df801b0121.desktop-large.jpg\"/>\n",
            "<span class=\"icon-pic\" data-nb-pics=\"1\"></span>\n",
            "</div>\n",
            "<div class=\"text-area\">\n",
            "<span class=\"icon-pic \" data-nb-pics=\"1\"></span><!--\n",
            "--><div class=\"announcement-container\">\n",
            "<div class=\"announcement-infos\">\n",
            "<a class=\"post-link post-vip\" href=\"/en/terrain-vendre-afanoyoa-pid12342919\" title=\"Terrain à vendre : Afanoyoa\"><span>Terrain à vendre : Afanoyoa</span></a>\n",
            "<span class=\"address\">\n",
            "                                                    Land &amp; Plots,\n",
            "                                                                            Yaoundé                                            </span>\n",
            "</div><!--\n",
            "--><div class=\"price-date\">\n",
            "<span class=\"price\">\n",
            "                                                3 500 000 FCFA                    </span>\n",
            "<time datetime=\"6.6.2022 13:50\">Today, 13:50</time>\n",
            "</div>\n",
            "<div class=\"info-zone\">\n",
            "<a class=\"heartbeat favorite-action \" href=\"/en/favorites/create/12342919\">\n",
            "</a>\n",
            "</div>\n",
            "</div>\n",
            "</div>\n",
            "</div>\n",
            "</article>\n",
            "<article class=\"post-holder product-click \" data-event='{\"id\":\"12342897\",\"title\":\"Terrain \\u00e0 vendre : Odza\",\"price\":\"60000.00\",\"category\":\"Real Estate\\/Land &amp; Plots\"}' data-position=\"7\" data-state=\"approved\">\n",
            "<div class=\"post\">\n",
            "<div class=\"alignleft \">\n",
            "<img alt=\"Terrain à vendre : Odza - Cameroon\" class=\"product-images\" data-src=\"https://d1dwhi9yny5dep.cloudfront.net/cm_live/61c38e9b0e629df73149797.desktop-large.jpg\"/>\n",
            "<span class=\"icon-pic\" data-nb-pics=\"1\"></span>\n",
            "</div>\n",
            "<div class=\"text-area\">\n",
            "<span class=\"icon-pic \" data-nb-pics=\"1\"></span><!--\n",
            "--><div class=\"announcement-container\">\n",
            "<div class=\"announcement-infos\">\n",
            "<a class=\"post-link post-vip\" href=\"/en/terrain-vendre-odza-pid12342897\" title=\"Terrain à vendre : Odza\"><span>Terrain à vendre : Odza</span></a>\n",
            "<span class=\"address\">\n",
            "                                                    Land &amp; Plots,\n",
            "                                                                            Odza                                            </span>\n",
            "</div><!--\n",
            "--><div class=\"price-date\">\n",
            "<span class=\"price\">\n",
            "                                                60 000 FCFA                    </span>\n",
            "<time datetime=\"6.6.2022 13:46\">Today, 13:46</time>\n",
            "</div>\n",
            "<div class=\"info-zone\">\n",
            "<a class=\"heartbeat favorite-action \" href=\"/en/favorites/create/12342897\">\n",
            "</a>\n",
            "</div>\n",
            "</div>\n",
            "</div>\n",
            "</div>\n",
            "</article>\n",
            "<article class=\"post-holder product-click \" data-event='{\"id\":\"12342872\",\"title\":\"2 lots de Terrain \\u00e0 vendre : Mballa 2\",\"price\":\"200000.00\",\"category\":\"Real Estate\\/Land &amp; Plots\"}' data-position=\"8\" data-state=\"approved\">\n",
            "<div class=\"post\">\n",
            "<div class=\"alignleft \">\n",
            "<img alt=\"2 lots de Terrain à vendre : Mballa 2 - Cameroon\" class=\"product-images\" data-src=\"https://d1dwhi9yny5dep.cloudfront.net/cm_live/6a683b1ce8629df645de134.desktop-large.jpg\"/>\n",
            "<span class=\"icon-pic\" data-nb-pics=\"1\"></span>\n",
            "</div>\n",
            "<div class=\"text-area\">\n",
            "<span class=\"icon-pic \" data-nb-pics=\"1\"></span><!--\n",
            "--><div class=\"announcement-container\">\n",
            "<div class=\"announcement-infos\">\n",
            "<a class=\"post-link post-vip\" href=\"/en/2-lots-de-terrain-vendre-mballa-2-pid12342872\" title=\"2 lots de Terrain à vendre : Mballa 2\"><span>2 lots de Terrain à vendre : Mballa 2</span></a>\n",
            "<span class=\"address\">\n",
            "                                                    Land &amp; Plots,\n",
            "                                                                            Mballa 2                                            </span>\n",
            "</div><!--\n",
            "--><div class=\"price-date\">\n",
            "<span class=\"price\">\n",
            "                                                200 000 FCFA                    </span>\n",
            "<time datetime=\"6.6.2022 13:42\">Today, 13:42</time>\n",
            "</div>\n",
            "<div class=\"info-zone\">\n",
            "<a class=\"heartbeat favorite-action \" href=\"/en/favorites/create/12342872\">\n",
            "</a>\n",
            "</div>\n",
            "</div>\n",
            "</div>\n",
            "</div>\n",
            "</article>\n"
          ]
        }
      ]
    },
    {
      "cell_type": "code",
      "source": [
        "for partial_url in list_urls:\n",
        "    print(partial_url.find('a')['href'])"
      ],
      "metadata": {
        "id": "tPRiTkbjbU_C",
        "colab": {
          "base_uri": "https://localhost:8080/"
        },
        "outputId": "b4675642-c2ec-417c-9206-d3710205ab6e"
      },
      "execution_count": null,
      "outputs": [
        {
          "output_type": "stream",
          "name": "stdout",
          "text": [
            "/en/terrain-titr--pid12344516\n",
            "/en/terrain-titr-a-vendre-au-centre-d-elat-pid12239087\n",
            "/en/terrain-yassa-bwang-bakoko-de-300m2-bon-prix--pid12343668\n",
            "/en/terrain-vendre-odza-pid12343251\n",
            "/en/terrain-vendre-omnisports-pid12342926\n",
            "/en/terrain-vendre-afanoyoa-pid12342919\n",
            "/en/terrain-vendre-odza-pid12342897\n",
            "/en/2-lots-de-terrain-vendre-mballa-2-pid12342872\n"
          ]
        }
      ]
    },
    {
      "cell_type": "code",
      "source": [
        "#find each independent article on page\n",
        "base_url = 'https://www.jumia.cm'\n",
        "list_urls = soup.find_all('article')\n",
        "for partial_url in list_urls:\n",
        "    print(base_url + partial_url.find('a')['href'])"
      ],
      "metadata": {
        "id": "itNV63PZcCxB"
      },
      "execution_count": null,
      "outputs": []
    },
    {
      "cell_type": "markdown",
      "source": [
        "##2.)Creating ETL functions"
      ],
      "metadata": {
        "id": "eNKqnoAzMWav"
      }
    },
    {
      "cell_type": "code",
      "source": [
        "#define function to get the page\n",
        "url_list=[]\n",
        "items_list=[]"
      ],
      "metadata": {
        "id": "IyCvE-5J1Uyl"
      },
      "execution_count": null,
      "outputs": []
    },
    {
      "cell_type": "code",
      "source": [
        "def get_page_urls(page):\n",
        "  base_url = 'https://www.jumia.cm'\n",
        "  response = requests.get(f'https://www.jumia.cm/en/land-plots?page={page}')\n",
        "  soup = BeautifulSoup(response.text,'html.parser')\n",
        "  list_urls = soup.find_all('article')\n",
        "  for partial_url in list_urls:\n",
        "    new_url = base_url + partial_url.find('a')['href']\n",
        "    url_list.append(new_url)"
      ],
      "metadata": {
        "id": "IJAYPKizddPx"
      },
      "execution_count": null,
      "outputs": []
    },
    {
      "cell_type": "code",
      "source": [
        "#define function to get location,area,price,price\n",
        "def extract_transform(url):\n",
        "  response = requests.get(url)\n",
        "  soup = BeautifulSoup(response.text,'html.parser')\n",
        "  location = soup.find('span',{'itemprop':'addressLocality'}).get_text()\n",
        "  area = soup.find_all('h3')[1].get_text().replace('Area','').replace(' m2','')\n",
        "  price = soup.find('span',{'itemprop':'price'}).get_text().replace(',','')\n",
        "  items = {'Location':location,'Area':area,'Price':price}\n",
        "  items_list.append(items)"
      ],
      "metadata": {
        "id": "XwPt-PwRdk2M"
      },
      "execution_count": null,
      "outputs": []
    },
    {
      "cell_type": "code",
      "source": [
        "get_page_urls(1)\n"
      ],
      "metadata": {
        "id": "MpD_ptgnhpbY"
      },
      "execution_count": null,
      "outputs": []
    },
    {
      "cell_type": "code",
      "source": [
        "url=url_list[0]\n",
        "url_list"
      ],
      "metadata": {
        "colab": {
          "base_uri": "https://localhost:8080/"
        },
        "id": "fjqskyTX2aED",
        "outputId": "e5b318e6-dac5-4a55-8533-7b0ba3a74165"
      },
      "execution_count": null,
      "outputs": [
        {
          "output_type": "execute_result",
          "data": {
            "text/plain": [
              "['https://www.jumia.cm/en/terrain-pid11862981',\n",
              " 'https://www.jumia.cm/en/terrain-de-250-m-titr-loti-vendre-nkolafamba-pid11686785',\n",
              " 'https://www.jumia.cm/en/terrain-titr-commercial-vendre-1001-m2-carrefour-coron-pid11863906',\n",
              " 'https://www.jumia.cm/en/terrain-titr-vendre-japoma-pid11863617',\n",
              " 'https://www.jumia.cm/en/terrain-titr-de-500-m-lotis-un-signataire--pid11862974',\n",
              " 'https://www.jumia.cm/en/terrains-titr-s-en-vente-ngodi-akwa--pid11861849',\n",
              " 'https://www.jumia.cm/en/terrains-titr-s-en-vente-logbessou--pid11861783',\n",
              " 'https://www.jumia.cm/en/terrains-en-vente-logbaba--pid11861764',\n",
              " 'https://www.jumia.cm/en/terrain-titr-kribi-vente-en-hectares--pid11861657']"
            ]
          },
          "metadata": {},
          "execution_count": 12
        }
      ]
    },
    {
      "cell_type": "code",
      "source": [
        "extract_transform(url_list[0])\n",
        "items_list"
      ],
      "metadata": {
        "colab": {
          "base_uri": "https://localhost:8080/"
        },
        "id": "xsu9jKlr4Em9",
        "outputId": "2e3b2543-b860-4dc2-b36d-085d920d99fb"
      },
      "execution_count": null,
      "outputs": [
        {
          "output_type": "execute_result",
          "data": {
            "text/plain": [
              "[{'Area': '500', 'Location': 'Odza', 'Price': '25000000'}]"
            ]
          },
          "metadata": {},
          "execution_count": 13
        }
      ]
    },
    {
      "cell_type": "code",
      "source": [
        "response = requests.get(url)\n",
        "response"
      ],
      "metadata": {
        "colab": {
          "base_uri": "https://localhost:8080/"
        },
        "id": "JiG_xmEUmtt2",
        "outputId": "75a31674-8b41-4e50-97a0-3176e43244b2"
      },
      "execution_count": null,
      "outputs": [
        {
          "output_type": "execute_result",
          "data": {
            "text/plain": [
              "<Response [200]>"
            ]
          },
          "metadata": {},
          "execution_count": 14
        }
      ]
    },
    {
      "cell_type": "code",
      "source": [
        "#inspecting location\n",
        "soup = BeautifulSoup(response.text,'html.parser')\n",
        "location = soup.find('span',{'itemprop':'addressLocality'}).get_text()\n",
        "location"
      ],
      "metadata": {
        "colab": {
          "base_uri": "https://localhost:8080/",
          "height": 36
        },
        "id": "q9-F82AUeiKA",
        "outputId": "1f7e8dbf-c2de-4aa7-ecbe-2790554b60f7"
      },
      "execution_count": null,
      "outputs": [
        {
          "output_type": "execute_result",
          "data": {
            "text/plain": [
              "'Odza'"
            ],
            "application/vnd.google.colaboratory.intrinsic+json": {
              "type": "string"
            }
          },
          "metadata": {},
          "execution_count": 15
        }
      ]
    },
    {
      "cell_type": "code",
      "source": [
        "#inspecting land area\n",
        "soup = BeautifulSoup(response.text,'html.parser')\n",
        "area = soup.find_all('h3')[1].get_text().replace('Area','').replace(' m2','')\n",
        "area"
      ],
      "metadata": {
        "colab": {
          "base_uri": "https://localhost:8080/",
          "height": 36
        },
        "id": "c8wGV0FXkKUS",
        "outputId": "1617375a-8bfc-461f-e285-47a85692144d"
      },
      "execution_count": null,
      "outputs": [
        {
          "output_type": "execute_result",
          "data": {
            "text/plain": [
              "'500'"
            ],
            "application/vnd.google.colaboratory.intrinsic+json": {
              "type": "string"
            }
          },
          "metadata": {},
          "execution_count": 16
        }
      ]
    },
    {
      "cell_type": "code",
      "source": [
        "#inspecting price\n",
        "soup = BeautifulSoup(response.text,'html.parser')\n",
        "price = soup.find('span',{'itemprop':'price'}).get_text().replace(',','')\n",
        "price"
      ],
      "metadata": {
        "colab": {
          "base_uri": "https://localhost:8080/",
          "height": 36
        },
        "id": "48CnGIqgpDcv",
        "outputId": "b87c0e63-ffc3-4f3c-d9f7-2eb49958c2bc"
      },
      "execution_count": null,
      "outputs": [
        {
          "output_type": "execute_result",
          "data": {
            "text/plain": [
              "'25000000'"
            ],
            "application/vnd.google.colaboratory.intrinsic+json": {
              "type": "string"
            }
          },
          "metadata": {},
          "execution_count": 17
        }
      ]
    },
    {
      "cell_type": "markdown",
      "source": [
        "##Scraping the page"
      ],
      "metadata": {
        "id": "MfyHksRzFT0N"
      }
    },
    {
      "cell_type": "code",
      "source": [
        "for page in range(1,2):\n",
        "  get_page_urls(page)\n",
        "url_list\n"
      ],
      "metadata": {
        "colab": {
          "base_uri": "https://localhost:8080/"
        },
        "id": "JHRj59nRFqG-",
        "outputId": "545b9112-3a5f-4513-d6fe-7005673699d2"
      },
      "execution_count": null,
      "outputs": [
        {
          "output_type": "execute_result",
          "data": {
            "text/plain": [
              "['https://www.jumia.cm/en/terrain-pid11862981',\n",
              " 'https://www.jumia.cm/en/terrain-de-250-m-titr-loti-vendre-nkolafamba-pid11686785',\n",
              " 'https://www.jumia.cm/en/terrain-titr-commercial-vendre-1001-m2-carrefour-coron-pid11863906',\n",
              " 'https://www.jumia.cm/en/terrain-titr-vendre-japoma-pid11863617',\n",
              " 'https://www.jumia.cm/en/terrain-titr-de-500-m-lotis-un-signataire--pid11862974',\n",
              " 'https://www.jumia.cm/en/terrains-titr-s-en-vente-ngodi-akwa--pid11861849',\n",
              " 'https://www.jumia.cm/en/terrains-titr-s-en-vente-logbessou--pid11861783',\n",
              " 'https://www.jumia.cm/en/terrains-en-vente-logbaba--pid11861764',\n",
              " 'https://www.jumia.cm/en/terrain-titr-kribi-vente-en-hectares--pid11861657',\n",
              " 'https://www.jumia.cm/en/terrain-pid11862981',\n",
              " 'https://www.jumia.cm/en/terrain-de-250-m-titr-loti-vendre-nkolafamba-pid11686785',\n",
              " 'https://www.jumia.cm/en/terrain-titr-commercial-vendre-1001-m2-carrefour-coron-pid11863906',\n",
              " 'https://www.jumia.cm/en/terrain-titr-vendre-japoma-pid11863617',\n",
              " 'https://www.jumia.cm/en/terrain-titr-de-500-m-lotis-un-signataire--pid11862974',\n",
              " 'https://www.jumia.cm/en/terrains-titr-s-en-vente-ngodi-akwa--pid11861849',\n",
              " 'https://www.jumia.cm/en/terrains-titr-s-en-vente-logbessou--pid11861783',\n",
              " 'https://www.jumia.cm/en/terrains-en-vente-logbaba--pid11861764',\n",
              " 'https://www.jumia.cm/en/terrain-titr-kribi-vente-en-hectares--pid11861657']"
            ]
          },
          "metadata": {},
          "execution_count": 18
        }
      ]
    },
    {
      "cell_type": "code",
      "source": [
        "for url in url_list:\n",
        "  extract_transform(url)\n",
        "items_list"
      ],
      "metadata": {
        "id": "jGiHLUTOxBrU",
        "colab": {
          "base_uri": "https://localhost:8080/"
        },
        "outputId": "68da8b42-7e86-4282-8113-9e005cd88297"
      },
      "execution_count": null,
      "outputs": [
        {
          "output_type": "execute_result",
          "data": {
            "text/plain": [
              "[{'Area': '500', 'Location': 'Odza', 'Price': '25000000'},\n",
              " {'Area': '500', 'Location': 'Odza', 'Price': '25000000'},\n",
              " {'Area': '250', 'Location': 'Yaoundé', 'Price': '2150'},\n",
              " {'Area': '1001', 'Location': 'Mvog Mbi', 'Price': '250000'},\n",
              " {'Area': '5000', 'Location': 'Japoma', 'Price': '25000'},\n",
              " {'Area': '500', 'Location': 'Odza', 'Price': '23000000'},\n",
              " {'Area': '600', 'Location': 'Ngodi', 'Price': '250000'},\n",
              " {'Area': '400', 'Location': 'Logbessou', 'Price': '30000'},\n",
              " {'Area': '200', 'Location': 'Logbaba', 'Price': '40000'},\n",
              " {'Area': '10000', 'Location': 'Kribi', 'Price': '35000000'},\n",
              " {'Area': '500', 'Location': 'Odza', 'Price': '25000000'},\n",
              " {'Area': '250', 'Location': 'Yaoundé', 'Price': '2150'},\n",
              " {'Area': '1001', 'Location': 'Mvog Mbi', 'Price': '250000'},\n",
              " {'Area': '5000', 'Location': 'Japoma', 'Price': '25000'},\n",
              " {'Area': '500', 'Location': 'Odza', 'Price': '23000000'},\n",
              " {'Area': '600', 'Location': 'Ngodi', 'Price': '250000'},\n",
              " {'Area': '400', 'Location': 'Logbessou', 'Price': '30000'},\n",
              " {'Area': '200', 'Location': 'Logbaba', 'Price': '40000'},\n",
              " {'Area': '10000', 'Location': 'Kribi', 'Price': '35000000'}]"
            ]
          },
          "metadata": {},
          "execution_count": 19
        }
      ]
    },
    {
      "cell_type": "markdown",
      "source": [
        "##4.) Convert to CSV"
      ],
      "metadata": {
        "id": "CMSHbFsPtFsO"
      }
    },
    {
      "cell_type": "code",
      "source": [
        "import pandas as pd\n",
        "data = pd.DataFrame(items_list)\n",
        "data"
      ],
      "metadata": {
        "colab": {
          "base_uri": "https://localhost:8080/",
          "height": 644
        },
        "id": "gd3Iu_LCsmdf",
        "outputId": "e624745f-8101-4803-e09d-e086de605f50"
      },
      "execution_count": null,
      "outputs": [
        {
          "output_type": "execute_result",
          "data": {
            "text/plain": [
              "     Location   Area     Price\n",
              "0        Odza    500  25000000\n",
              "1        Odza    500  25000000\n",
              "2     Yaoundé    250      2150\n",
              "3    Mvog Mbi   1001    250000\n",
              "4      Japoma   5000     25000\n",
              "5        Odza    500  23000000\n",
              "6       Ngodi    600    250000\n",
              "7   Logbessou    400     30000\n",
              "8     Logbaba    200     40000\n",
              "9       Kribi  10000  35000000\n",
              "10       Odza    500  25000000\n",
              "11    Yaoundé    250      2150\n",
              "12   Mvog Mbi   1001    250000\n",
              "13     Japoma   5000     25000\n",
              "14       Odza    500  23000000\n",
              "15      Ngodi    600    250000\n",
              "16  Logbessou    400     30000\n",
              "17    Logbaba    200     40000\n",
              "18      Kribi  10000  35000000"
            ],
            "text/html": [
              "\n",
              "  <div id=\"df-17fac152-d36e-4dea-b6d6-b9d0eca9c880\">\n",
              "    <div class=\"colab-df-container\">\n",
              "      <div>\n",
              "<style scoped>\n",
              "    .dataframe tbody tr th:only-of-type {\n",
              "        vertical-align: middle;\n",
              "    }\n",
              "\n",
              "    .dataframe tbody tr th {\n",
              "        vertical-align: top;\n",
              "    }\n",
              "\n",
              "    .dataframe thead th {\n",
              "        text-align: right;\n",
              "    }\n",
              "</style>\n",
              "<table border=\"1\" class=\"dataframe\">\n",
              "  <thead>\n",
              "    <tr style=\"text-align: right;\">\n",
              "      <th></th>\n",
              "      <th>Location</th>\n",
              "      <th>Area</th>\n",
              "      <th>Price</th>\n",
              "    </tr>\n",
              "  </thead>\n",
              "  <tbody>\n",
              "    <tr>\n",
              "      <th>0</th>\n",
              "      <td>Odza</td>\n",
              "      <td>500</td>\n",
              "      <td>25000000</td>\n",
              "    </tr>\n",
              "    <tr>\n",
              "      <th>1</th>\n",
              "      <td>Odza</td>\n",
              "      <td>500</td>\n",
              "      <td>25000000</td>\n",
              "    </tr>\n",
              "    <tr>\n",
              "      <th>2</th>\n",
              "      <td>Yaoundé</td>\n",
              "      <td>250</td>\n",
              "      <td>2150</td>\n",
              "    </tr>\n",
              "    <tr>\n",
              "      <th>3</th>\n",
              "      <td>Mvog Mbi</td>\n",
              "      <td>1001</td>\n",
              "      <td>250000</td>\n",
              "    </tr>\n",
              "    <tr>\n",
              "      <th>4</th>\n",
              "      <td>Japoma</td>\n",
              "      <td>5000</td>\n",
              "      <td>25000</td>\n",
              "    </tr>\n",
              "    <tr>\n",
              "      <th>5</th>\n",
              "      <td>Odza</td>\n",
              "      <td>500</td>\n",
              "      <td>23000000</td>\n",
              "    </tr>\n",
              "    <tr>\n",
              "      <th>6</th>\n",
              "      <td>Ngodi</td>\n",
              "      <td>600</td>\n",
              "      <td>250000</td>\n",
              "    </tr>\n",
              "    <tr>\n",
              "      <th>7</th>\n",
              "      <td>Logbessou</td>\n",
              "      <td>400</td>\n",
              "      <td>30000</td>\n",
              "    </tr>\n",
              "    <tr>\n",
              "      <th>8</th>\n",
              "      <td>Logbaba</td>\n",
              "      <td>200</td>\n",
              "      <td>40000</td>\n",
              "    </tr>\n",
              "    <tr>\n",
              "      <th>9</th>\n",
              "      <td>Kribi</td>\n",
              "      <td>10000</td>\n",
              "      <td>35000000</td>\n",
              "    </tr>\n",
              "    <tr>\n",
              "      <th>10</th>\n",
              "      <td>Odza</td>\n",
              "      <td>500</td>\n",
              "      <td>25000000</td>\n",
              "    </tr>\n",
              "    <tr>\n",
              "      <th>11</th>\n",
              "      <td>Yaoundé</td>\n",
              "      <td>250</td>\n",
              "      <td>2150</td>\n",
              "    </tr>\n",
              "    <tr>\n",
              "      <th>12</th>\n",
              "      <td>Mvog Mbi</td>\n",
              "      <td>1001</td>\n",
              "      <td>250000</td>\n",
              "    </tr>\n",
              "    <tr>\n",
              "      <th>13</th>\n",
              "      <td>Japoma</td>\n",
              "      <td>5000</td>\n",
              "      <td>25000</td>\n",
              "    </tr>\n",
              "    <tr>\n",
              "      <th>14</th>\n",
              "      <td>Odza</td>\n",
              "      <td>500</td>\n",
              "      <td>23000000</td>\n",
              "    </tr>\n",
              "    <tr>\n",
              "      <th>15</th>\n",
              "      <td>Ngodi</td>\n",
              "      <td>600</td>\n",
              "      <td>250000</td>\n",
              "    </tr>\n",
              "    <tr>\n",
              "      <th>16</th>\n",
              "      <td>Logbessou</td>\n",
              "      <td>400</td>\n",
              "      <td>30000</td>\n",
              "    </tr>\n",
              "    <tr>\n",
              "      <th>17</th>\n",
              "      <td>Logbaba</td>\n",
              "      <td>200</td>\n",
              "      <td>40000</td>\n",
              "    </tr>\n",
              "    <tr>\n",
              "      <th>18</th>\n",
              "      <td>Kribi</td>\n",
              "      <td>10000</td>\n",
              "      <td>35000000</td>\n",
              "    </tr>\n",
              "  </tbody>\n",
              "</table>\n",
              "</div>\n",
              "      <button class=\"colab-df-convert\" onclick=\"convertToInteractive('df-17fac152-d36e-4dea-b6d6-b9d0eca9c880')\"\n",
              "              title=\"Convert this dataframe to an interactive table.\"\n",
              "              style=\"display:none;\">\n",
              "        \n",
              "  <svg xmlns=\"http://www.w3.org/2000/svg\" height=\"24px\"viewBox=\"0 0 24 24\"\n",
              "       width=\"24px\">\n",
              "    <path d=\"M0 0h24v24H0V0z\" fill=\"none\"/>\n",
              "    <path d=\"M18.56 5.44l.94 2.06.94-2.06 2.06-.94-2.06-.94-.94-2.06-.94 2.06-2.06.94zm-11 1L8.5 8.5l.94-2.06 2.06-.94-2.06-.94L8.5 2.5l-.94 2.06-2.06.94zm10 10l.94 2.06.94-2.06 2.06-.94-2.06-.94-.94-2.06-.94 2.06-2.06.94z\"/><path d=\"M17.41 7.96l-1.37-1.37c-.4-.4-.92-.59-1.43-.59-.52 0-1.04.2-1.43.59L10.3 9.45l-7.72 7.72c-.78.78-.78 2.05 0 2.83L4 21.41c.39.39.9.59 1.41.59.51 0 1.02-.2 1.41-.59l7.78-7.78 2.81-2.81c.8-.78.8-2.07 0-2.86zM5.41 20L4 18.59l7.72-7.72 1.47 1.35L5.41 20z\"/>\n",
              "  </svg>\n",
              "      </button>\n",
              "      \n",
              "  <style>\n",
              "    .colab-df-container {\n",
              "      display:flex;\n",
              "      flex-wrap:wrap;\n",
              "      gap: 12px;\n",
              "    }\n",
              "\n",
              "    .colab-df-convert {\n",
              "      background-color: #E8F0FE;\n",
              "      border: none;\n",
              "      border-radius: 50%;\n",
              "      cursor: pointer;\n",
              "      display: none;\n",
              "      fill: #1967D2;\n",
              "      height: 32px;\n",
              "      padding: 0 0 0 0;\n",
              "      width: 32px;\n",
              "    }\n",
              "\n",
              "    .colab-df-convert:hover {\n",
              "      background-color: #E2EBFA;\n",
              "      box-shadow: 0px 1px 2px rgba(60, 64, 67, 0.3), 0px 1px 3px 1px rgba(60, 64, 67, 0.15);\n",
              "      fill: #174EA6;\n",
              "    }\n",
              "\n",
              "    [theme=dark] .colab-df-convert {\n",
              "      background-color: #3B4455;\n",
              "      fill: #D2E3FC;\n",
              "    }\n",
              "\n",
              "    [theme=dark] .colab-df-convert:hover {\n",
              "      background-color: #434B5C;\n",
              "      box-shadow: 0px 1px 3px 1px rgba(0, 0, 0, 0.15);\n",
              "      filter: drop-shadow(0px 1px 2px rgba(0, 0, 0, 0.3));\n",
              "      fill: #FFFFFF;\n",
              "    }\n",
              "  </style>\n",
              "\n",
              "      <script>\n",
              "        const buttonEl =\n",
              "          document.querySelector('#df-17fac152-d36e-4dea-b6d6-b9d0eca9c880 button.colab-df-convert');\n",
              "        buttonEl.style.display =\n",
              "          google.colab.kernel.accessAllowed ? 'block' : 'none';\n",
              "\n",
              "        async function convertToInteractive(key) {\n",
              "          const element = document.querySelector('#df-17fac152-d36e-4dea-b6d6-b9d0eca9c880');\n",
              "          const dataTable =\n",
              "            await google.colab.kernel.invokeFunction('convertToInteractive',\n",
              "                                                     [key], {});\n",
              "          if (!dataTable) return;\n",
              "\n",
              "          const docLinkHtml = 'Like what you see? Visit the ' +\n",
              "            '<a target=\"_blank\" href=https://colab.research.google.com/notebooks/data_table.ipynb>data table notebook</a>'\n",
              "            + ' to learn more about interactive tables.';\n",
              "          element.innerHTML = '';\n",
              "          dataTable['output_type'] = 'display_data';\n",
              "          await google.colab.output.renderOutput(dataTable, element);\n",
              "          const docLink = document.createElement('div');\n",
              "          docLink.innerHTML = docLinkHtml;\n",
              "          element.appendChild(docLink);\n",
              "        }\n",
              "      </script>\n",
              "    </div>\n",
              "  </div>\n",
              "  "
            ]
          },
          "metadata": {},
          "execution_count": 20
        }
      ]
    },
    {
      "cell_type": "code",
      "source": [
        "data.to_csv('land_price_data.csv',index=False)"
      ],
      "metadata": {
        "id": "q8QzCX-ozx88"
      },
      "execution_count": null,
      "outputs": []
    }
  ]
}